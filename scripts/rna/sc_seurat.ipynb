{
 "cells": [
  {
   "cell_type": "code",
   "execution_count": 1,
   "id": "5490b4b9-3473-4587-b035-9ead6a4156bf",
   "metadata": {},
   "outputs": [
    {
     "data": {
      "text/html": [
       "'/Volumes/ccrsf-ifx/Software/github/SF_scMaestro/workflow/scripts/rna'"
      ],
      "text/latex": [
       "'/Volumes/ccrsf-ifx/Software/github/SF\\_scMaestro/workflow/scripts/rna'"
      ],
      "text/markdown": [
       "'/Volumes/ccrsf-ifx/Software/github/SF_scMaestro/workflow/scripts/rna'"
      ],
      "text/plain": [
       "[1] \"/Volumes/ccrsf-ifx/Software/github/SF_scMaestro/workflow/scripts/rna\""
      ]
     },
     "metadata": {},
     "output_type": "display_data"
    }
   ],
   "source": [
    "script_path = getwd()                                # %exclude_jupyterlab%\n",
    "script_path                                          # %exclude_jupyterlab%"
   ]
  },
  {
   "cell_type": "code",
   "execution_count": 23,
   "id": "a69fbdf1-1fe7-4f89-90ec-4fb7788ba37f",
   "metadata": {},
   "outputs": [
    {
     "data": {
      "text/html": [],
      "text/latex": [],
      "text/markdown": [],
      "text/plain": [
       "character(0)"
      ]
     },
     "metadata": {},
     "output_type": "display_data"
    }
   ],
   "source": [
    "system(paste0('Rscript ', script_path,                # %exclude_jupyterlab%\n",
    "        '/sc_seurat_opt.R --genome=\"hg38\" --data.dir=/Volumes/ccrsf-static/singlecell_projects/DwightNissley_CS035576_6scRNASeq_101223/Analysis_CPMV/Analysis/1_B3C2_NC/outs/filtered_feature_bc_matrix --outdir=\"test_dir\"'),  # %exclude_jupyterlab%\n",
    "       intern = T) # %exclude_jupyterlab%"
   ]
  },
  {
   "cell_type": "code",
   "execution_count": 3,
   "id": "f2ac430e-9d69-4141-8602-91014330ee8a",
   "metadata": {},
   "outputs": [
    {
     "name": "stderr",
     "output_type": "stream",
     "text": [
      "Loading required package: SeuratObject\n",
      "\n",
      "Loading required package: sp\n",
      "\n",
      "\n",
      "Attaching package: ‘SeuratObject’\n",
      "\n",
      "\n",
      "The following object is masked from ‘package:base’:\n",
      "\n",
      "    intersect\n",
      "\n",
      "\n",
      "\n",
      "Attaching package: ‘dplyr’\n",
      "\n",
      "\n",
      "The following object is masked from ‘package:MASS’:\n",
      "\n",
      "    select\n",
      "\n",
      "\n",
      "The following objects are masked from ‘package:stats’:\n",
      "\n",
      "    filter, lag\n",
      "\n",
      "\n",
      "The following objects are masked from ‘package:base’:\n",
      "\n",
      "    intersect, setdiff, setequal, union\n",
      "\n",
      "\n",
      "Registered S3 method overwritten by 'gplots':\n",
      "  method         from \n",
      "  reorder.factor gdata\n",
      "\n"
     ]
    }
   ],
   "source": [
    "library(Seurat)\n",
    "library(Matrix)\n",
    "library(MASS)\n",
    "library(dplyr)\n",
    "library(reshape2)\n",
    "library(ggplot2)\n",
    "library(URD)\n",
    "library(cluster)"
   ]
  },
  {
   "cell_type": "code",
   "execution_count": 4,
   "id": "a0d9bd8a-30a8-4f2b-8293-37c97498b03c",
   "metadata": {},
   "outputs": [],
   "source": [
    "opt = readRDS(\"./test_dir/opt.rds\")                                 # %exclude_jupyterlab%"
   ]
  },
  {
   "cell_type": "code",
   "execution_count": 5,
   "id": "5fd741fb-787e-4dfa-bd0d-4757de96be63",
   "metadata": {},
   "outputs": [
    {
     "data": {
      "text/html": [
       "<dl>\n",
       "\t<dt>$min.cells</dt>\n",
       "\t\t<dd>0</dd>\n",
       "\t<dt>$min.features</dt>\n",
       "\t\t<dd>0</dd>\n",
       "\t<dt>$data.dir</dt>\n",
       "\t\t<dd>'/Volumes/ccrsf-static/singlecell_projects/DwightNissley_CS035576_6scRNASeq_101223/Analysis_CPMV/Analysis/1_B3C2_NC/outs/filtered_feature_bc_matrix'</dd>\n",
       "\t<dt>$sampleid</dt>\n",
       "\t\t<dd>'scRNA'</dd>\n",
       "\t<dt>$genome</dt>\n",
       "\t\t<dd>'hg38'</dd>\n",
       "\t<dt>$outdir</dt>\n",
       "\t\t<dd>'test_dir'</dd>\n",
       "\t<dt>$help</dt>\n",
       "\t\t<dd>FALSE</dd>\n",
       "</dl>\n"
      ],
      "text/latex": [
       "\\begin{description}\n",
       "\\item[\\$min.cells] 0\n",
       "\\item[\\$min.features] 0\n",
       "\\item[\\$data.dir] '/Volumes/ccrsf-static/singlecell\\_projects/DwightNissley\\_CS035576\\_6scRNASeq\\_101223/Analysis\\_CPMV/Analysis/1\\_B3C2\\_NC/outs/filtered\\_feature\\_bc\\_matrix'\n",
       "\\item[\\$sampleid] 'scRNA'\n",
       "\\item[\\$genome] 'hg38'\n",
       "\\item[\\$outdir] 'test\\_dir'\n",
       "\\item[\\$help] FALSE\n",
       "\\end{description}\n"
      ],
      "text/markdown": [
       "$min.cells\n",
       ":   0\n",
       "$min.features\n",
       ":   0\n",
       "$data.dir\n",
       ":   '/Volumes/ccrsf-static/singlecell_projects/DwightNissley_CS035576_6scRNASeq_101223/Analysis_CPMV/Analysis/1_B3C2_NC/outs/filtered_feature_bc_matrix'\n",
       "$sampleid\n",
       ":   'scRNA'\n",
       "$genome\n",
       ":   'hg38'\n",
       "$outdir\n",
       ":   'test_dir'\n",
       "$help\n",
       ":   FALSE\n",
       "\n",
       "\n"
      ],
      "text/plain": [
       "$min.cells\n",
       "[1] 0\n",
       "\n",
       "$min.features\n",
       "[1] 0\n",
       "\n",
       "$data.dir\n",
       "[1] \"/Volumes/ccrsf-static/singlecell_projects/DwightNissley_CS035576_6scRNASeq_101223/Analysis_CPMV/Analysis/1_B3C2_NC/outs/filtered_feature_bc_matrix\"\n",
       "\n",
       "$sampleid\n",
       "[1] \"scRNA\"\n",
       "\n",
       "$genome\n",
       "[1] \"hg38\"\n",
       "\n",
       "$outdir\n",
       "[1] \"test_dir\"\n",
       "\n",
       "$help\n",
       "[1] FALSE\n"
      ]
     },
     "metadata": {},
     "output_type": "display_data"
    }
   ],
   "source": [
    "opt                                                              "
   ]
  },
  {
   "cell_type": "code",
   "execution_count": 6,
   "id": "1a28f32b-8f51-4979-b8ff-17b80703ac5c",
   "metadata": {},
   "outputs": [],
   "source": [
    "system(paste0(\"mkdir -p \", opt$outdir))\n",
    "setwd(opt$outdir) "
   ]
  },
  {
   "cell_type": "code",
   "execution_count": 7,
   "id": "dba7e011-36b1-4b1f-b370-2bbf065861d5",
   "metadata": {},
   "outputs": [],
   "source": [
    "count_mtx = Read10X(data.dir = opt$data.dir)"
   ]
  },
  {
   "cell_type": "code",
   "execution_count": 8,
   "id": "23b2f452-ec2d-44bd-88c1-75d2ef6b56e9",
   "metadata": {},
   "outputs": [],
   "source": [
    "count_mtx <- count_mtx[(nrow(count_mtx)/2):nrow(count_mtx), 1:1000]                # %exclude_jupyterlab%"
   ]
  },
  {
   "cell_type": "code",
   "execution_count": 9,
   "id": "ce423a58-3c3c-4604-a474-c54cc7a764b4",
   "metadata": {},
   "outputs": [],
   "source": [
    "seur <- CreateSeuratObject(counts = count_mtx,\n",
    "                                 min.cells = opt$min.cells,\n",
    "                                 min.features = opt$min.features,\n",
    "                                 project = opt$sampleid)"
   ]
  },
  {
   "cell_type": "code",
   "execution_count": 10,
   "id": "ce3a0a16-5308-4a74-a3ef-94df66e0be14",
   "metadata": {},
   "outputs": [],
   "source": [
    "rm(count_mtx)"
   ]
  },
  {
   "cell_type": "code",
   "execution_count": 11,
   "id": "85b328a9-7dad-4397-8943-ce934079baf4",
   "metadata": {},
   "outputs": [],
   "source": [
    "#find mitochondrial genes\n",
    "if (opt$genome == \"mm10\") {\n",
    "        seur[[\"percent.mito\"]] <- PercentageFeatureSet(seur, pattern=\"^mt-\")\n",
    "} else if (opt$genome == \"hg19\" | opt$genome == \"hg38\") {\n",
    "        seur[[\"percent.mito\"]] <- PercentageFeatureSet(seur, pattern=\"^MT-\")\n",
    "}\n"
   ]
  },
  {
   "cell_type": "code",
   "execution_count": 12,
   "id": "459df5a7-12cb-48ba-b3d4-8f032c6cc80d",
   "metadata": {},
   "outputs": [
    {
     "data": {
      "text/html": [
       "<table class=\"dataframe\">\n",
       "<caption>A data.frame: 6 × 4</caption>\n",
       "<thead>\n",
       "\t<tr><th></th><th scope=col>orig.ident</th><th scope=col>nCount_RNA</th><th scope=col>nFeature_RNA</th><th scope=col>percent.mito</th></tr>\n",
       "\t<tr><th></th><th scope=col>&lt;fct&gt;</th><th scope=col>&lt;dbl&gt;</th><th scope=col>&lt;int&gt;</th><th scope=col>&lt;dbl&gt;</th></tr>\n",
       "</thead>\n",
       "<tbody>\n",
       "\t<tr><th scope=row>AAACCTGAGAAACCAT-1</th><td>scRNA</td><td>4350</td><td>1716</td><td>4.275862</td></tr>\n",
       "\t<tr><th scope=row>AAACCTGAGCGTCAAG-1</th><td>scRNA</td><td>1174</td><td> 655</td><td>4.173765</td></tr>\n",
       "\t<tr><th scope=row>AAACCTGAGCTGATAA-1</th><td>scRNA</td><td>2847</td><td>1003</td><td>1.615736</td></tr>\n",
       "\t<tr><th scope=row>AAACCTGAGGACAGAA-1</th><td>scRNA</td><td>1558</td><td> 877</td><td>5.584082</td></tr>\n",
       "\t<tr><th scope=row>AAACCTGAGGCGACAT-1</th><td>scRNA</td><td>3070</td><td>1332</td><td>4.267101</td></tr>\n",
       "\t<tr><th scope=row>AAACCTGAGTACGCCC-1</th><td>scRNA</td><td>2729</td><td>1079</td><td>4.323928</td></tr>\n",
       "</tbody>\n",
       "</table>\n"
      ],
      "text/latex": [
       "A data.frame: 6 × 4\n",
       "\\begin{tabular}{r|llll}\n",
       "  & orig.ident & nCount\\_RNA & nFeature\\_RNA & percent.mito\\\\\n",
       "  & <fct> & <dbl> & <int> & <dbl>\\\\\n",
       "\\hline\n",
       "\tAAACCTGAGAAACCAT-1 & scRNA & 4350 & 1716 & 4.275862\\\\\n",
       "\tAAACCTGAGCGTCAAG-1 & scRNA & 1174 &  655 & 4.173765\\\\\n",
       "\tAAACCTGAGCTGATAA-1 & scRNA & 2847 & 1003 & 1.615736\\\\\n",
       "\tAAACCTGAGGACAGAA-1 & scRNA & 1558 &  877 & 5.584082\\\\\n",
       "\tAAACCTGAGGCGACAT-1 & scRNA & 3070 & 1332 & 4.267101\\\\\n",
       "\tAAACCTGAGTACGCCC-1 & scRNA & 2729 & 1079 & 4.323928\\\\\n",
       "\\end{tabular}\n"
      ],
      "text/markdown": [
       "\n",
       "A data.frame: 6 × 4\n",
       "\n",
       "| <!--/--> | orig.ident &lt;fct&gt; | nCount_RNA &lt;dbl&gt; | nFeature_RNA &lt;int&gt; | percent.mito &lt;dbl&gt; |\n",
       "|---|---|---|---|---|\n",
       "| AAACCTGAGAAACCAT-1 | scRNA | 4350 | 1716 | 4.275862 |\n",
       "| AAACCTGAGCGTCAAG-1 | scRNA | 1174 |  655 | 4.173765 |\n",
       "| AAACCTGAGCTGATAA-1 | scRNA | 2847 | 1003 | 1.615736 |\n",
       "| AAACCTGAGGACAGAA-1 | scRNA | 1558 |  877 | 5.584082 |\n",
       "| AAACCTGAGGCGACAT-1 | scRNA | 3070 | 1332 | 4.267101 |\n",
       "| AAACCTGAGTACGCCC-1 | scRNA | 2729 | 1079 | 4.323928 |\n",
       "\n"
      ],
      "text/plain": [
       "                   orig.ident nCount_RNA nFeature_RNA percent.mito\n",
       "AAACCTGAGAAACCAT-1 scRNA      4350       1716         4.275862    \n",
       "AAACCTGAGCGTCAAG-1 scRNA      1174        655         4.173765    \n",
       "AAACCTGAGCTGATAA-1 scRNA      2847       1003         1.615736    \n",
       "AAACCTGAGGACAGAA-1 scRNA      1558        877         5.584082    \n",
       "AAACCTGAGGCGACAT-1 scRNA      3070       1332         4.267101    \n",
       "AAACCTGAGTACGCCC-1 scRNA      2729       1079         4.323928    "
      ]
     },
     "metadata": {},
     "output_type": "display_data"
    }
   ],
   "source": [
    "head(seur@meta.data)"
   ]
  },
  {
   "cell_type": "code",
   "execution_count": 13,
   "id": "7bb1f235-01da-414c-98d1-91dab69e9a49",
   "metadata": {},
   "outputs": [
    {
     "name": "stderr",
     "output_type": "stream",
     "text": [
      "Warning message:\n",
      "“Default search for \"data\" layer in \"RNA\" assay yielded no results; utilizing \"counts\" layer instead.”\n"
     ]
    },
    {
     "data": {
      "text/html": [
       "<strong>png:</strong> 2"
      ],
      "text/latex": [
       "\\textbf{png:} 2"
      ],
      "text/markdown": [
       "**png:** 2"
      ],
      "text/plain": [
       "png \n",
       "  2 "
      ]
     },
     "metadata": {},
     "output_type": "display_data"
    }
   ],
   "source": [
    "png(\"VlnPlot_PreFilter.png\", height=7, width=7, units='in', res=200)\n",
    "VlnPlot(seur, features = c(\"nFeature_RNA\", \"nCount_RNA\", \"percent.mito\"), ncol = 3)\n",
    "dev.off()"
   ]
  },
  {
   "cell_type": "code",
   "execution_count": 14,
   "id": "5e0e0236-ac9d-45a9-9d59-c7a4cd890643",
   "metadata": {},
   "outputs": [
    {
     "data": {
      "text/html": [
       "<strong>png:</strong> 2"
      ],
      "text/latex": [
       "\\textbf{png:} 2"
      ],
      "text/markdown": [
       "**png:** 2"
      ],
      "text/plain": [
       "png \n",
       "  2 "
      ]
     },
     "metadata": {},
     "output_type": "display_data"
    }
   ],
   "source": [
    "plot1 <- FeatureScatter(seur, feature1 = \"nCount_RNA\", feature2 = \"percent.mito\")\n",
    "plot2 <- FeatureScatter(seur, feature1 = \"nCount_RNA\", feature2 = \"nFeature_RNA\")\n",
    "png(\"FeatureScatter_PreFilter.png\", height=7, width=10, units='in', res=200)\n",
    "plot1 | plot2\n",
    "dev.off()"
   ]
  },
  {
   "cell_type": "code",
   "execution_count": null,
   "id": "a973fb47-869d-4166-97d9-82dfd757c230",
   "metadata": {},
   "outputs": [],
   "source": []
  },
  {
   "cell_type": "code",
   "execution_count": 15,
   "id": "aa0830d0-dda4-43de-9a4e-109ac1ce0ccd",
   "metadata": {},
   "outputs": [
    {
     "name": "stderr",
     "output_type": "stream",
     "text": [
      "Warning message in densfun(x, parm[1], parm[2], ...):\n",
      "“NaNs produced”\n"
     ]
    }
   ],
   "source": [
    "cS <- data.frame(libSize=seur$nCount_RNA, geneDetect=seur$nFeature_RNA)\n",
    "p_hi <- 1e-3 #p-value for filtering doublets\n",
    "p_lo <- 1e-2 #p-value for filtering poor libraries\n",
    "fitLibSize <- fitdistr(cS$libSize,\"negative binomial\")\n",
    "umi.upper.limit <- qnbinom(p_hi,size=fitLibSize$estimate[\"size\"],\n",
    "                 mu=fitLibSize$estimate[\"mu\"],lower.tail=F)\n",
    "umi.lower.limit <- qnbinom(p_lo,size=fitLibSize$estimate[\"size\"],\n",
    "                 mu=fitLibSize$estimate[\"mu\"],lower.tail=T)\n",
    "fitGeneDetect <- fitdistr(cS$geneDetect,\"negative binomial\")\n",
    "gene.upper.limit <- qnbinom(p_hi,size=fitGeneDetect$estimate[\"size\"],\n",
    "                 mu=fitGeneDetect$estimate[\"mu\"],lower.tail=F)\n",
    "gene.lower.limit <- qnbinom(p_lo,size=fitGeneDetect$estimate[\"size\"],\n",
    "                 mu=fitGeneDetect$estimate[\"mu\"],lower.tail=T)\n",
    "\n",
    "cur.mad <- mad(seur$percent.mito)\n",
    "cur.med <- median(seur$percent.mito)\n",
    "diff.val <- 4 * cur.mad\n",
    "mito.upper.limit <- cur.med + diff.val\n",
    "\n",
    "temp_doublets <- (cS$libSize > umi.upper.limit) | (cS$geneDetect > gene.upper.limit) #doublets IDed based on high library size or genes detected\n",
    "temp_crapLibs <- (cS$libSize < umi.lower.limit) | (cS$geneDetect < gene.lower.limit) #poor libraries IDed based on low library size or genes detected"
   ]
  },
  {
   "cell_type": "code",
   "execution_count": 16,
   "id": "93cf47b4-79f2-49cb-8bfa-5adf89eddf5f",
   "metadata": {},
   "outputs": [
    {
     "name": "stdout",
     "output_type": "stream",
     "text": [
      "[1] 11.96038\n"
     ]
    }
   ],
   "source": [
    "print(mito.upper.limit)\n"
   ]
  },
  {
   "cell_type": "code",
   "execution_count": 17,
   "id": "56260adb-ccd4-4911-bb45-170df3ce4db9",
   "metadata": {},
   "outputs": [],
   "source": [
    "filter_summary <- t(data.frame(c(\"Doublets\"=sum(temp_doublets), \"Poor-Quality\"=sum(temp_crapLibs), \"Mitochondrial\"=sum(seur$percent.mito > mito.upper.limit), \"Total Filtered\"=sum(temp_doublets | temp_crapLibs | seur$percent.mito > mito.upper.limit))))"
   ]
  },
  {
   "cell_type": "code",
   "execution_count": 18,
   "id": "88f8d9c0-5689-4a13-967b-6ad2bac0dba6",
   "metadata": {},
   "outputs": [
    {
     "data": {
      "text/html": [
       "<table class=\"dataframe\">\n",
       "<caption>A matrix: 1 × 4 of type int</caption>\n",
       "<thead>\n",
       "\t<tr><th></th><th scope=col>Doublets</th><th scope=col>Poor-Quality</th><th scope=col>Mitochondrial</th><th scope=col>Total Filtered</th></tr>\n",
       "</thead>\n",
       "<tbody>\n",
       "\t<tr><th scope=row>scRNA</th><td>11</td><td>29</td><td>11</td><td>50</td></tr>\n",
       "</tbody>\n",
       "</table>\n"
      ],
      "text/latex": [
       "A matrix: 1 × 4 of type int\n",
       "\\begin{tabular}{r|llll}\n",
       "  & Doublets & Poor-Quality & Mitochondrial & Total Filtered\\\\\n",
       "\\hline\n",
       "\tscRNA & 11 & 29 & 11 & 50\\\\\n",
       "\\end{tabular}\n"
      ],
      "text/markdown": [
       "\n",
       "A matrix: 1 × 4 of type int\n",
       "\n",
       "| <!--/--> | Doublets | Poor-Quality | Mitochondrial | Total Filtered |\n",
       "|---|---|---|---|---|\n",
       "| scRNA | 11 | 29 | 11 | 50 |\n",
       "\n"
      ],
      "text/plain": [
       "      Doublets Poor-Quality Mitochondrial Total Filtered\n",
       "scRNA 11       29           11            50            "
      ]
     },
     "metadata": {},
     "output_type": "display_data"
    }
   ],
   "source": [
    "rownames(filter_summary) = opt$sampleid\n",
    "filter_summary"
   ]
  },
  {
   "cell_type": "code",
   "execution_count": 19,
   "id": "05ff21a7-2153-4fd2-a1d2-c2fec790e59c",
   "metadata": {},
   "outputs": [],
   "source": [
    "write.table(filter_summary, 'FilterNumbers.csv', sep=',', quote=FALSE, row.names=FALSE)"
   ]
  },
  {
   "cell_type": "code",
   "execution_count": 20,
   "id": "a7bf3737-9bc8-4a65-9267-79881583c033",
   "metadata": {},
   "outputs": [],
   "source": [
    "seur <- subset(seur, subset = nFeature_RNA > gene.lower.limit & nFeature_RNA < gene.upper.limit)\n",
    "seur <- subset(seur, subset = nCount_RNA > umi.lower.limit & nCount_RNA < umi.upper.limit)\n",
    "seur <- subset(seur, subset = percent.mito < mito.upper.limit)"
   ]
  },
  {
   "cell_type": "code",
   "execution_count": 21,
   "id": "bca2bdca-c632-4271-9bca-cd0485e1e26c",
   "metadata": {},
   "outputs": [],
   "source": [
    "write.table(data.frame(umi.upper.limit, umi.lower.limit, gene.upper.limit, gene.lower.limit, mito.upper.limit), \n",
    "            'FilterThresholds.csv', sep=',', quote=FALSE, row.names = FALSE)"
   ]
  },
  {
   "cell_type": "code",
   "execution_count": 22,
   "id": "2f831c0c-c784-46f7-b9d3-973180981e93",
   "metadata": {},
   "outputs": [
    {
     "name": "stderr",
     "output_type": "stream",
     "text": [
      "Warning message:\n",
      "“Default search for \"data\" layer in \"RNA\" assay yielded no results; utilizing \"counts\" layer instead.”\n"
     ]
    },
    {
     "data": {
      "text/html": [
       "<strong>png:</strong> 2"
      ],
      "text/latex": [
       "\\textbf{png:} 2"
      ],
      "text/markdown": [
       "**png:** 2"
      ],
      "text/plain": [
       "png \n",
       "  2 "
      ]
     },
     "metadata": {},
     "output_type": "display_data"
    }
   ],
   "source": [
    "png(\"VlnPlot_Filtered.png\", height=7, width=7, units='in', res=200)\n",
    "VlnPlot(seur, features = c(\"nFeature_RNA\", \"nCount_RNA\", \"percent.mito\"), ncol = 3)\n",
    "dev.off()"
   ]
  },
  {
   "cell_type": "code",
   "execution_count": 23,
   "id": "6375d422-815d-4eae-b487-d081fe04fee3",
   "metadata": {},
   "outputs": [
    {
     "data": {
      "text/html": [
       "<strong>png:</strong> 2"
      ],
      "text/latex": [
       "\\textbf{png:} 2"
      ],
      "text/markdown": [
       "**png:** 2"
      ],
      "text/plain": [
       "png \n",
       "  2 "
      ]
     },
     "metadata": {},
     "output_type": "display_data"
    }
   ],
   "source": [
    "#new plot\n",
    "plot1 <- FeatureScatter(seur, feature1 = \"nCount_RNA\", feature2 = \"percent.mito\")\n",
    "plot2 <- FeatureScatter(seur, feature1 = \"nCount_RNA\", feature2 = \"nFeature_RNA\")\n",
    "png(\"FeatureScatter_PostFilter.png\", height=7, width=10, units='in', res=300)\n",
    "plot1 | plot2\n",
    "dev.off()"
   ]
  },
  {
   "cell_type": "code",
   "execution_count": 24,
   "id": "ce7c3811-61da-4faf-8635-e116e12965ee",
   "metadata": {},
   "outputs": [],
   "source": [
    "seur <- SCTransform(seur, vars.to.regress = \"percent.mito\", return.only.var.genes = FALSE, verbose = FALSE)"
   ]
  },
  {
   "cell_type": "code",
   "execution_count": 25,
   "id": "af6ba085-bbd3-4d1e-9511-543fb66c4eed",
   "metadata": {},
   "outputs": [],
   "source": [
    "saveRDS(seur, file = \"seur_10x_preprocessed_object.rds\")"
   ]
  },
  {
   "cell_type": "code",
   "execution_count": 26,
   "id": "630a67cd-0a59-43d9-9a81-217d6ea588e8",
   "metadata": {},
   "outputs": [
    {
     "name": "stdout",
     "output_type": "stream",
     "text": [
      "createURD..."
     ]
    },
    {
     "name": "stderr",
     "output_type": "stream",
     "text": [
      "2024-04-24 15:42:44.678892: Filtering cells by number of genes.\n",
      "\n",
      "2024-04-24 15:42:45.397299: Filtering genes by number of cells.\n",
      "\n",
      "2024-04-24 15:42:46.210632: Filtering genes by number of counts across entire data.\n",
      "\n",
      "2024-04-24 15:42:46.970242: Filtering genes by maximum observed expression.\n",
      "\n",
      "2024-04-24 15:42:47.762715: Creating URD object.\n",
      "\n",
      "2024-04-24 15:42:48.37798: Determining normalization factors.\n",
      "\n",
      "2024-04-24 15:42:49.088711: Normalizing and log-transforming the data.\n",
      "\n",
      "'as(<dgeMatrix>, \"dgCMatrix\")' is deprecated.\n",
      "Use 'as(., \"CsparseMatrix\")' instead.\n",
      "See help(\"Deprecated\") and help(\"Matrix-deprecated\").\n",
      "\n",
      "2024-04-24 15:42:50.858241: Finishing setup of the URD object.\n",
      "\n",
      "2024-04-24 15:42:50.997969: All done.\n",
      "\n"
     ]
    },
    {
     "name": "stdout",
     "output_type": "stream",
     "text": [
      "calcPCA...[1] \"2024-04-24 15:42:51.000045: Centering and scaling data.\"\n",
      "[1] \"2024-04-24 15:42:51.955693: Removing genes with no variation.\"\n",
      "[1] \"2024-04-24 15:42:52.254821: Calculating PCA.\"\n",
      "[1] \"2024-04-24 15:42:53.752586: Estimating significant PCs.\"\n",
      "[1] \"Marchenko-Pastur eigenvalue null upper bound: 14.0277971069299\"\n",
      "[1] \"5 PCs have eigenvalues larger than 2 times null upper bound.\"\n",
      "[1] \"Storing 10 PCs.\"\n"
     ]
    }
   ],
   "source": [
    "###URD\n",
    "if (dim(seur)[[2]] > 10000) {\n",
    "  numPCs <- 50\n",
    "} else if (dim(seur)[[2]] < 500) {\n",
    "  numPCs <- 10\n",
    "} else {\n",
    "  #inputTags <- as.matrix(read.csv(expressionFile, row.names = 1))\n",
    "  mat1 <- as.matrix(GetAssayData(seur))\n",
    "  cat(\"createURD...\")\n",
    "  test <- suppressWarnings(createURD(count.data = mat1, min.cells=3, min.counts=3)) # )\n",
    "  cat(\"calcPCA...\")\n",
    "  test <- suppressWarnings(calcPCA(test, mp.factor = 2))\n",
    "  write.table(test@pca.sig,\"URD.txt\")\n",
    "  png(\"URD.png\", height=7, width=7, units='in', res=300)\n",
    "  pcSDPlot(test)\n",
    "  dev.off()\n",
    "\n",
    "  numPCs <- max(10, sum(test@pca.sig))\n",
    "}"
   ]
  },
  {
   "cell_type": "code",
   "execution_count": 27,
   "id": "aefd0d39-0931-4ff6-a518-a2e8c199b6df",
   "metadata": {},
   "outputs": [
    {
     "name": "stderr",
     "output_type": "stream",
     "text": [
      "When using repel, set xnudge and ynudge to 0 for optimal results\n",
      "\n"
     ]
    },
    {
     "data": {
      "text/html": [
       "<strong>png:</strong> 2"
      ],
      "text/latex": [
       "\\textbf{png:} 2"
      ],
      "text/markdown": [
       "**png:** 2"
      ],
      "text/plain": [
       "png \n",
       "  2 "
      ]
     },
     "metadata": {},
     "output_type": "display_data"
    }
   ],
   "source": [
    "top10 <- head(VariableFeatures(seur), 10)\n",
    "# plot variable features with and without labels\n",
    "plot1 <- VariableFeaturePlot(seur)\n",
    "plot2 <- LabelPoints(plot = plot1, points = top10, repel = TRUE)\n",
    "png('VariableFeatures.png', height=7, width=10, units='in', res=300)\n",
    "plot1 | plot2\n",
    "dev.off()"
   ]
  },
  {
   "cell_type": "code",
   "execution_count": 28,
   "id": "ee37e668-b620-454d-b5ef-7a38f4943e22",
   "metadata": {},
   "outputs": [
    {
     "name": "stderr",
     "output_type": "stream",
     "text": [
      "PC_ 1 \n",
      "Positive:  IFI30, FOS, FTL, LYZ, TYROBP \n",
      "Negative:  CCL5, NKG7, RPL13, RPS3, RPL10 \n",
      "PC_ 2 \n",
      "Positive:  RPL13, RPS5, RPL39, CCR7, RPL10 \n",
      "Negative:  NKG7, CCL5, CST7, GZMB, CCL4 \n",
      "PC_ 3 \n",
      "Positive:  CD79A, MS4A1, IGHM, CD37, LINC00926 \n",
      "Negative:  CD3E, IL32, LDHB, CD3D, NELL2 \n",
      "PC_ 4 \n",
      "Positive:  PDE3B, RUNX1, NEAT1, SORL1, MALAT1 \n",
      "Negative:  CCL5, B2M, NKG7, TYROBP, TMSB4X \n",
      "PC_ 5 \n",
      "Positive:  TYROBP, CD7, KLRF1, CCR7, KLRB1 \n",
      "Negative:  CCL5, IL32, GZMH, KLRG1, CD3E \n",
      "\n"
     ]
    }
   ],
   "source": [
    "seur <- RunPCA(seur, \n",
    "               features = VariableFeatures(seur), \n",
    "               npcs=max(20,numPCs), do.print = TRUE, \n",
    "               ndims.print = 1:5, nfeatures.print = 5)"
   ]
  },
  {
   "cell_type": "code",
   "execution_count": 29,
   "id": "420ff5cf-d169-4c8a-aa44-9d52cd9a2c51",
   "metadata": {},
   "outputs": [
    {
     "data": {
      "text/html": [
       "<strong>png:</strong> 2"
      ],
      "text/latex": [
       "\\textbf{png:} 2"
      ],
      "text/markdown": [
       "**png:** 2"
      ],
      "text/plain": [
       "png \n",
       "  2 "
      ]
     },
     "metadata": {},
     "output_type": "display_data"
    }
   ],
   "source": [
    "pdf(\"VizPCAPlot.pdf\")\n",
    "for (i in  seq(1,20,2)) {\n",
    "  j = i + 1\n",
    "  print(VizDimLoadings(seur, i:j))\n",
    "}\n",
    "dev.off()"
   ]
  },
  {
   "cell_type": "code",
   "execution_count": 30,
   "id": "b99e5645-36e3-4d68-b57a-9aee92944b5e",
   "metadata": {},
   "outputs": [
    {
     "data": {
      "text/html": [
       "<strong>png:</strong> 2"
      ],
      "text/latex": [
       "\\textbf{png:} 2"
      ],
      "text/markdown": [
       "**png:** 2"
      ],
      "text/plain": [
       "png \n",
       "  2 "
      ]
     },
     "metadata": {},
     "output_type": "display_data"
    }
   ],
   "source": [
    "#plot PCA\n",
    "pdf(\"AllPCAPlot.pdf\")\n",
    "for (i in c(1:10)) {\n",
    "  print(DimPlot(seur, dims=c(i, i+1), reduction=\"pca\"))\n",
    "}\n",
    "dev.off()"
   ]
  },
  {
   "cell_type": "code",
   "execution_count": 31,
   "id": "706d12dd-8c41-49bc-a06c-16f2ad697146",
   "metadata": {},
   "outputs": [
    {
     "data": {
      "text/html": [
       "<strong>png:</strong> 2"
      ],
      "text/latex": [
       "\\textbf{png:} 2"
      ],
      "text/markdown": [
       "**png:** 2"
      ],
      "text/plain": [
       "png \n",
       "  2 "
      ]
     },
     "metadata": {},
     "output_type": "display_data"
    },
    {
     "data": {
      "text/html": [
       "<strong>png:</strong> 2"
      ],
      "text/latex": [
       "\\textbf{png:} 2"
      ],
      "text/markdown": [
       "**png:** 2"
      ],
      "text/plain": [
       "png \n",
       "  2 "
      ]
     },
     "metadata": {},
     "output_type": "display_data"
    }
   ],
   "source": [
    "#PC heatmap\n",
    "pdf(\"PC_HeatmapPlot.pdf\")\n",
    "for (i in c(1:10)) {\n",
    "  DimHeatmap(seur, dims = i, cells = 500, balanced = TRUE)\n",
    "}\n",
    "dev.off()\n",
    "\n",
    "#make PC elbow plot\n",
    "pdf(\"PC_ElbowPlot.pdf\")\n",
    "ElbowPlot(seur)\n",
    "dev.off()"
   ]
  },
  {
   "cell_type": "code",
   "execution_count": 32,
   "id": "80b5abc1-dc9b-475a-a9d9-bc41ee360bf1",
   "metadata": {},
   "outputs": [
    {
     "name": "stderr",
     "output_type": "stream",
     "text": [
      "Computing nearest neighbor graph\n",
      "\n",
      "Computing SNN\n",
      "\n",
      "Warning message:\n",
      "“The default method for RunUMAP has changed from calling Python UMAP via reticulate to the R-native UWOT using the cosine metric\n",
      "To use Python UMAP via reticulate, set umap.method to 'umap-learn' and metric to 'correlation'\n",
      "This message will be shown once per session”\n",
      "15:43:09 UMAP embedding parameters a = 0.9922 b = 1.112\n",
      "\n",
      "Found more than one class \"dist\" in cache; using the first, from namespace 'spam'\n",
      "\n",
      "Also defined by ‘BiocGenerics’\n",
      "\n",
      "15:43:09 Read 949 rows and found 10 numeric columns\n",
      "\n",
      "15:43:09 Using Annoy for neighbor search, n_neighbors = 30\n",
      "\n",
      "Found more than one class \"dist\" in cache; using the first, from namespace 'spam'\n",
      "\n",
      "Also defined by ‘BiocGenerics’\n",
      "\n",
      "15:43:09 Building Annoy index with metric = cosine, n_trees = 50\n",
      "\n",
      "0%   10   20   30   40   50   60   70   80   90   100%\n",
      "\n",
      "[----|----|----|----|----|----|----|----|----|----|\n",
      "\n",
      "*\n",
      "*\n",
      "*\n",
      "*\n",
      "*\n",
      "*\n",
      "*\n",
      "*\n",
      "*\n",
      "*\n",
      "*\n",
      "*\n",
      "*\n",
      "*\n",
      "*\n",
      "*\n",
      "*\n",
      "*\n",
      "*\n",
      "*\n",
      "*\n",
      "*\n",
      "*\n",
      "*\n",
      "*\n",
      "*\n",
      "*\n",
      "*\n",
      "*\n",
      "*\n",
      "*\n",
      "*\n",
      "*\n",
      "*\n",
      "*\n",
      "*\n",
      "*\n",
      "*\n",
      "*\n",
      "*\n",
      "*\n",
      "*\n",
      "*\n",
      "*\n",
      "*\n",
      "*\n",
      "*\n",
      "*\n",
      "*\n",
      "*\n",
      "|\n",
      "\n",
      "15:43:09 Writing NN index file to temp file /tmp/RtmpuWxGUz/file111b6ce29691\n",
      "\n",
      "15:43:09 Searching Annoy index using 1 thread, search_k = 3000\n",
      "\n",
      "15:43:09 Annoy recall = 100%\n",
      "\n",
      "15:43:10 Commencing smooth kNN distance calibration using 1 thread\n",
      " with target n_neighbors = 30\n",
      "\n",
      "15:43:11 Initializing from normalized Laplacian + noise (using RSpectra)\n",
      "\n",
      "15:43:11 Commencing optimization for 500 epochs, with 37388 positive edges\n",
      "\n",
      "15:43:12 Optimization finished\n",
      "\n"
     ]
    }
   ],
   "source": [
    "resolutions <- c(0.1, 0.3, 0.6, 0.8)\n",
    "\n",
    "seur <- FindNeighbors(seur, dims=1:numPCs)\n",
    "seur <- RunTSNE(seur, dims=1:numPCs)\n",
    "write.csv(Embeddings(seur, reduction='tsne'), file = \"tSNECoordinates.csv\")\n",
    "seur <- RunUMAP(seur, dims=1:numPCs)\n",
    "write.csv(Embeddings(seur, reduction='umap'), file = \"UMAPCoordinates.csv\")"
   ]
  },
  {
   "cell_type": "code",
   "execution_count": 33,
   "id": "3d705cc5-f727-4768-894b-c2a66c861365",
   "metadata": {},
   "outputs": [
    {
     "name": "stderr",
     "output_type": "stream",
     "text": [
      "Warning message:\n",
      "“The following arguments are not used: dims, print.output, save.SNN”\n",
      "Suggested parameter: verbose instead of print.output\n",
      "\n",
      "\n",
      "Warning message:\n",
      "“The following arguments are not used: dims, print.output, save.SNN”\n",
      "Suggested parameter: verbose instead of print.output\n",
      "\n",
      "\n"
     ]
    },
    {
     "name": "stdout",
     "output_type": "stream",
     "text": [
      "Modularity Optimizer version 1.3.0 by Ludo Waltman and Nees Jan van Eck\n",
      "\n",
      "Number of nodes: 949\n",
      "Number of edges: 30498\n",
      "\n",
      "Running Louvain algorithm...\n",
      "Maximum modularity in 10 random starts: 0.9586\n",
      "Number of communities: 4\n",
      "Elapsed time: 0 seconds\n"
     ]
    },
    {
     "name": "stderr",
     "output_type": "stream",
     "text": [
      "Calculating cluster 0\n",
      "\n",
      "For a (much!) faster implementation of the Wilcoxon Rank Sum Test,\n",
      "(default method for FindMarkers) please install the presto package\n",
      "--------------------------------------------\n",
      "install.packages('devtools')\n",
      "devtools::install_github('immunogenomics/presto')\n",
      "--------------------------------------------\n",
      "After installation of presto, Seurat will automatically use the more \n",
      "efficient implementation (no further action necessary).\n",
      "This message will be shown once per session\n",
      "\n",
      "Calculating cluster 1\n",
      "\n",
      "Calculating cluster 2\n",
      "\n",
      "Calculating cluster 3\n",
      "\n",
      "Warning message:\n",
      "“The following arguments are not used: dims, print.output, save.SNN”\n",
      "Suggested parameter: verbose instead of print.output\n",
      "\n",
      "\n",
      "Warning message:\n",
      "“The following arguments are not used: dims, print.output, save.SNN”\n",
      "Suggested parameter: verbose instead of print.output\n",
      "\n",
      "\n"
     ]
    },
    {
     "name": "stdout",
     "output_type": "stream",
     "text": [
      "Modularity Optimizer version 1.3.0 by Ludo Waltman and Nees Jan van Eck\n",
      "\n",
      "Number of nodes: 949\n",
      "Number of edges: 30498\n",
      "\n",
      "Running Louvain algorithm...\n",
      "Maximum modularity in 10 random starts: 0.9164\n",
      "Number of communities: 6\n",
      "Elapsed time: 0 seconds\n"
     ]
    },
    {
     "name": "stderr",
     "output_type": "stream",
     "text": [
      "Calculating cluster 0\n",
      "\n",
      "Calculating cluster 1\n",
      "\n",
      "Calculating cluster 2\n",
      "\n",
      "Calculating cluster 3\n",
      "\n",
      "Calculating cluster 4\n",
      "\n",
      "Calculating cluster 5\n",
      "\n",
      "Warning message:\n",
      "“The following arguments are not used: dims, print.output, save.SNN”\n",
      "Suggested parameter: verbose instead of print.output\n",
      "\n",
      "\n",
      "Warning message:\n",
      "“The following arguments are not used: dims, print.output, save.SNN”\n",
      "Suggested parameter: verbose instead of print.output\n",
      "\n",
      "\n"
     ]
    },
    {
     "name": "stdout",
     "output_type": "stream",
     "text": [
      "Modularity Optimizer version 1.3.0 by Ludo Waltman and Nees Jan van Eck\n",
      "\n",
      "Number of nodes: 949\n",
      "Number of edges: 30498\n",
      "\n",
      "Running Louvain algorithm...\n",
      "Maximum modularity in 10 random starts: 0.8648\n",
      "Number of communities: 6\n",
      "Elapsed time: 0 seconds\n"
     ]
    },
    {
     "name": "stderr",
     "output_type": "stream",
     "text": [
      "Calculating cluster 0\n",
      "\n",
      "Calculating cluster 1\n",
      "\n",
      "Calculating cluster 2\n",
      "\n",
      "Calculating cluster 3\n",
      "\n",
      "Calculating cluster 4\n",
      "\n",
      "Calculating cluster 5\n",
      "\n",
      "Warning message:\n",
      "“The following arguments are not used: dims, print.output, save.SNN”\n",
      "Suggested parameter: verbose instead of print.output\n",
      "\n",
      "\n",
      "Warning message:\n",
      "“The following arguments are not used: dims, print.output, save.SNN”\n",
      "Suggested parameter: verbose instead of print.output\n",
      "\n",
      "\n"
     ]
    },
    {
     "name": "stdout",
     "output_type": "stream",
     "text": [
      "Modularity Optimizer version 1.3.0 by Ludo Waltman and Nees Jan van Eck\n",
      "\n",
      "Number of nodes: 949\n",
      "Number of edges: 30498\n",
      "\n",
      "Running Louvain algorithm...\n",
      "Maximum modularity in 10 random starts: 0.8303\n",
      "Number of communities: 6\n",
      "Elapsed time: 0 seconds\n"
     ]
    },
    {
     "name": "stderr",
     "output_type": "stream",
     "text": [
      "Calculating cluster 0\n",
      "\n",
      "Calculating cluster 1\n",
      "\n",
      "Calculating cluster 2\n",
      "\n",
      "Calculating cluster 3\n",
      "\n",
      "Calculating cluster 4\n",
      "\n",
      "Calculating cluster 5\n",
      "\n"
     ]
    }
   ],
   "source": [
    "runRes <- c()\n",
    "tsnePlots <- list()\n",
    "umapPlots <- list()\n",
    "for (res in resolutions) {\n",
    "  seur <- FindClusters(seur, dims=1:numPCs, resolution = res, print.output = 0, save.SNN = T)\n",
    "  tsne <- TSNEPlot(seur) + ggtitle(paste(numPCs,\"PCs_res\", res, sep=\"\")) +\n",
    "    theme(plot.title = element_text(hjust = 0.5))\n",
    "  tsnePlots[[as.character(res)]] <- tsne\n",
    "  png(paste(\"TSNEPlotwith\",numPCs,\"PCs_\", res, \".png\", sep=\"\"), height=7, width=7, units='in', res=300)\n",
    "  print(tsne)\n",
    "  dev.off()\n",
    "  umap <- DimPlot(seur, reduction=\"umap\") + ggtitle(paste(numPCs,\"PCs_res\", res, sep=\"\")) +\n",
    "    theme(plot.title = element_text(hjust = 0.5))\n",
    "  umapPlots[[as.character(res)]] <- umap\n",
    "  png(paste(\"UMAPPlotwith\",numPCs,\"PCs_\", res, \".png\", sep=\"\"), height=7, width=7, units='in', res=300)\n",
    "  print(umap)\n",
    "  dev.off()\n",
    "\n",
    "  try({\n",
    "    seur.markers <- FindAllMarkers(object = seur, logfc.threshold = 0.25, only.pos=TRUE)\n",
    "    write.csv(seur.markers %>% group_by(cluster) %>% top_n(-100,\n",
    "                                                           p_val), paste(\"top100markers_pc\", numPCs, \"_res\", res, \".csv\", sep = \"\"))\n",
    "    saveRDS(seur.markers, paste(\"markers_res\", res, \".rds\", sep = \"\"))\n",
    "    runRes <- append(runRes, res)})\n",
    "}\n",
    "\n"
   ]
  },
  {
   "cell_type": "code",
   "execution_count": 34,
   "id": "d8821c18-b955-4700-923d-1249fb550764",
   "metadata": {},
   "outputs": [],
   "source": [
    "#save object\n",
    "saveRDS(seur, file = \"seur_10x_cluster_object.rds\")"
   ]
  },
  {
   "cell_type": "code",
   "execution_count": 35,
   "id": "289836d2-00b6-474a-86a6-cd4dedb774d7",
   "metadata": {},
   "outputs": [
    {
     "data": {
      "text/html": [
       "<strong>png:</strong> 2"
      ],
      "text/latex": [
       "\\textbf{png:} 2"
      ],
      "text/markdown": [
       "**png:** 2"
      ],
      "text/plain": [
       "png \n",
       "  2 "
      ]
     },
     "metadata": {},
     "output_type": "display_data"
    }
   ],
   "source": [
    "pdf(\"TSNEPlots.pdf\")\n",
    "for (res in tsnePlots){\n",
    "  print(res)\n",
    "}\n",
    "dev.off()"
   ]
  },
  {
   "cell_type": "code",
   "execution_count": 36,
   "id": "46b93064-dcc1-49bc-8950-46feeb0d07b4",
   "metadata": {},
   "outputs": [
    {
     "data": {
      "text/html": [
       "<strong>png:</strong> 2"
      ],
      "text/latex": [
       "\\textbf{png:} 2"
      ],
      "text/markdown": [
       "**png:** 2"
      ],
      "text/plain": [
       "png \n",
       "  2 "
      ]
     },
     "metadata": {},
     "output_type": "display_data"
    }
   ],
   "source": [
    "pdf(\"UMAPPlots.pdf\")\n",
    "for (res in umapPlots){\n",
    "  print(res)\n",
    "}\n",
    "dev.off()"
   ]
  },
  {
   "cell_type": "code",
   "execution_count": 37,
   "id": "01fdc8f6-9ad8-40e5-b6ca-85ff18d7dda2",
   "metadata": {},
   "outputs": [
    {
     "name": "stderr",
     "output_type": "stream",
     "text": [
      "Warning message:\n",
      "“The following arguments are not used: reduction.type”\n",
      "Warning message:\n",
      "“The following arguments are not used: reduction.type”\n",
      "Warning message:\n",
      "“The following arguments are not used: reduction.type”\n",
      "Warning message:\n",
      "“The following arguments are not used: reduction.type”\n"
     ]
    },
    {
     "name": "stdout",
     "output_type": "stream",
     "text": [
      "[1] 0.1 0.3 0.6 0.8\n"
     ]
    }
   ],
   "source": [
    "##Create Silhoutte Plots\n",
    "for (res in runRes){\n",
    "  coord <- Embeddings(seur, reduction.type='pca')[,1:numPCs]\n",
    "  Idents(seur) <- seur@meta.data[[paste0('SCT_snn_res.', res)]]\n",
    "  clusters <- Idents(seur)\n",
    "  d <- dist(coord, method=\"euclidean\")\n",
    "  sil<-silhouette(as.numeric(clusters), dist=d)\n",
    "  #silPlot <- recordPlot()\n",
    "  pdf(paste0(\"SilhouettePlot_res\",res,\".pdf\"))#, height=7, width=7, units='in', res=300)\n",
    "  plot(sil, col=as.factor(clusters[order(clusters, decreasing=FALSE)]), main=paste(\"Silhouette plot of Seurat clustering - resolution \", res, sep=\"\"), lty=2)\n",
    "  abline(v=mean(sil[,3]), col=\"red4\", lty=2)\n",
    "  dev.off()\n",
    "}\n",
    "\n",
    "##Remove resolutions that failed marker generation\n",
    "print(runRes)\n",
    "for (res in setdiff(resolutions, runRes)){\n",
    "  seur@meta.data[paste0('SCT_snn_res.', res)] <- NULL\n",
    "}\n",
    "\n",
    "write(min(runRes), \"minRes.txt\")"
   ]
  },
  {
   "cell_type": "code",
   "execution_count": 38,
   "id": "bdc254a4-7f34-47b5-8fb4-e48b75be85c9",
   "metadata": {},
   "outputs": [
    {
     "data": {
      "text/plain": [
       "R version 4.3.3 (2024-02-29)\n",
       "Platform: x86_64-pc-linux-gnu (64-bit)\n",
       "Running under: Ubuntu 22.04.4 LTS\n",
       "\n",
       "Matrix products: default\n",
       "BLAS:   /usr/lib/x86_64-linux-gnu/openblas-pthread/libblas.so.3 \n",
       "LAPACK: /usr/lib/x86_64-linux-gnu/openblas-pthread/libopenblasp-r0.3.20.so;  LAPACK version 3.10.0\n",
       "\n",
       "locale:\n",
       " [1] LC_CTYPE=en_US.UTF-8       LC_NUMERIC=C              \n",
       " [3] LC_TIME=en_US.UTF-8        LC_COLLATE=en_US.UTF-8    \n",
       " [5] LC_MONETARY=en_US.UTF-8    LC_MESSAGES=en_US.UTF-8   \n",
       " [7] LC_PAPER=en_US.UTF-8       LC_NAME=C                 \n",
       " [9] LC_ADDRESS=C               LC_TELEPHONE=C            \n",
       "[11] LC_MEASUREMENT=en_US.UTF-8 LC_IDENTIFICATION=C       \n",
       "\n",
       "time zone: Etc/UTC\n",
       "tzcode source: system (glibc)\n",
       "\n",
       "attached base packages:\n",
       "[1] stats     graphics  grDevices utils     datasets  methods   base     \n",
       "\n",
       "other attached packages:\n",
       " [1] cluster_2.1.6      URD_1.1.1          ggplot2_3.5.0      reshape2_1.4.4    \n",
       " [5] dplyr_1.1.4        MASS_7.3-60.0.1    Matrix_1.6-5       Seurat_5.0.1      \n",
       " [9] SeuratObject_5.0.1 sp_2.1-3          \n",
       "\n",
       "loaded via a namespace (and not attached):\n",
       "  [1] RcppAnnoy_0.0.22            splines_4.3.3              \n",
       "  [3] later_1.3.2                 pbdZMQ_0.3-11              \n",
       "  [5] bitops_1.0-7                tibble_3.2.1               \n",
       "  [7] polyclip_1.10-6             minpack.lm_1.2-4           \n",
       "  [9] xts_0.13.2                  fastDummies_1.7.3          \n",
       " [11] lifecycle_1.0.4             globals_0.16.3             \n",
       " [13] lattice_0.22-6              magrittr_2.0.3             \n",
       " [15] vcd_1.4-12                  limma_3.59.8               \n",
       " [17] plotly_4.10.4               httpuv_1.6.15              \n",
       " [19] glmGamPoi_1.14.3            sctransform_0.4.1          \n",
       " [21] spam_2.10-0                 spatstat.sparse_3.0-3      \n",
       " [23] reticulate_1.35.0           cowplot_1.1.3              \n",
       " [25] pbapply_1.7-2               RColorBrewer_1.1-3         \n",
       " [27] abind_1.4-5                 zlibbioc_1.48.2            \n",
       " [29] Rtsne_0.17                  GenomicRanges_1.54.1       \n",
       " [31] purrr_1.0.2                 ggraph_2.2.1               \n",
       " [33] BiocGenerics_0.48.1         RCurl_1.98-1.14            \n",
       " [35] nnet_7.3-19                 tweenr_2.0.3               \n",
       " [37] GenomeInfoDbData_1.2.11     IRanges_2.37.1             \n",
       " [39] S4Vectors_0.40.2            ggrepel_0.9.5              \n",
       " [41] gmodels_2.19.1              irlba_2.3.5.1              \n",
       " [43] listenv_0.9.1               spatstat.utils_3.0-4       \n",
       " [45] gdata_3.0.0                 goftest_1.2-3              \n",
       " [47] RSpectra_0.16-1             spatstat.random_3.2-3      \n",
       " [49] fitdistrplus_1.1-11         parallelly_1.37.1          \n",
       " [51] DelayedMatrixStats_1.24.0   smoother_1.3               \n",
       " [53] leiden_0.4.3.1              codetools_0.2-20           \n",
       " [55] DelayedArray_0.28.0         ggforce_0.4.2              \n",
       " [57] tidyselect_1.2.1            farver_2.1.1               \n",
       " [59] viridis_0.6.5               matrixStats_1.3.0          \n",
       " [61] stats4_4.3.3                base64enc_0.1-3            \n",
       " [63] spatstat.explore_3.2-7      jsonlite_1.8.8             \n",
       " [65] e1071_1.7-14                tidygraph_1.3.1            \n",
       " [67] progressr_0.14.0            ggridges_0.5.6             \n",
       " [69] survival_3.5-8              tools_4.3.3                \n",
       " [71] ica_1.0-3                   Rcpp_1.0.12                \n",
       " [73] glue_1.7.0                  gridExtra_2.3              \n",
       " [75] SparseArray_1.2.4           laeken_0.5.3               \n",
       " [77] ranger_0.16.0               TTR_0.24.4                 \n",
       " [79] MatrixGenerics_1.14.0       ggthemes_5.1.0             \n",
       " [81] GenomeInfoDb_1.38.8         IRdisplay_1.1              \n",
       " [83] withr_3.0.0                 fastmap_1.1.1              \n",
       " [85] boot_1.3-30                 fansi_1.0.6                \n",
       " [87] VIM_6.2.2                   caTools_1.18.2             \n",
       " [89] digest_0.6.35               R6_2.5.1                   \n",
       " [91] mime_0.12                   colorspace_2.1-0           \n",
       " [93] scattermore_1.2             gtools_3.9.5               \n",
       " [95] tensor_1.5                  spatstat.data_3.0-4        \n",
       " [97] diptest_0.77-1              utf8_1.2.4                 \n",
       " [99] tidyr_1.3.1                 generics_0.1.3             \n",
       "[101] hexbin_1.28.3               data.table_1.15.4          \n",
       "[103] robustbase_0.99-2           class_7.3-22               \n",
       "[105] graphlayouts_1.1.1          httr_1.4.7                 \n",
       "[107] htmlwidgets_1.6.4           S4Arrays_1.2.1             \n",
       "[109] scatterplot3d_0.3-44        uwot_0.1.16                \n",
       "[111] pkgconfig_2.0.3             gtable_0.3.4               \n",
       "[113] lmtest_0.9-40               SingleCellExperiment_1.24.0\n",
       "[115] XVector_0.42.0              destiny_3.16.0             \n",
       "[117] htmltools_0.5.8.1           carData_3.0-5              \n",
       "[119] dotCall64_1.1-1             scales_1.3.0               \n",
       "[121] Biobase_2.62.0              png_0.1-8                  \n",
       "[123] uuid_1.2-0                  curl_5.2.1                 \n",
       "[125] nlme_3.1-164                cachem_1.0.8               \n",
       "[127] repr_1.1.7                  proxy_0.4-27               \n",
       "[129] zoo_1.8-12                  stringr_1.5.1              \n",
       "[131] KernSmooth_2.23-22          vipor_0.4.7                \n",
       "[133] parallel_4.3.3              miniUI_0.1.1.1             \n",
       "[135] ggrastr_1.0.2               pillar_1.9.0               \n",
       "[137] grid_4.3.3                  vctrs_0.6.5                \n",
       "[139] gplots_3.1.3.1              pcaMethods_1.94.0          \n",
       "[141] RANN_2.6.1                  promises_1.3.0             \n",
       "[143] car_3.1-2                   xtable_1.8-4               \n",
       "[145] beeswarm_0.4.0              evaluate_0.23              \n",
       "[147] cli_3.6.2                   compiler_4.3.3             \n",
       "[149] rlang_1.1.3                 crayon_1.5.2               \n",
       "[151] future.apply_1.11.2         labeling_0.4.3             \n",
       "[153] ggbeeswarm_0.7.2            plyr_1.8.9                 \n",
       "[155] stringi_1.8.3               viridisLite_0.4.2          \n",
       "[157] deldir_2.0-4                munsell_0.5.1              \n",
       "[159] lazyeval_0.2.2              spatstat.geom_3.2-9        \n",
       "[161] IRkernel_1.1.1              RcppHNSW_0.6.0             \n",
       "[163] RcppEigen_0.3.4.0.0         patchwork_1.2.0            \n",
       "[165] sparseMatrixStats_1.14.0    future_1.33.2              \n",
       "[167] statmod_1.5.0               shiny_1.8.1.1              \n",
       "[169] SummarizedExperiment_1.32.0 ROCR_1.0-11                \n",
       "[171] memoise_2.0.1               igraph_2.0.3               \n",
       "[173] DEoptimR_1.1-3              ggplot.multistats_1.0.0    "
      ]
     },
     "metadata": {},
     "output_type": "display_data"
    }
   ],
   "source": [
    "sessionInfo()"
   ]
  },
  {
   "cell_type": "code",
   "execution_count": 2,
   "id": "af756324-3533-445b-ab14-b1b3952b6b84",
   "metadata": {},
   "outputs": [
    {
     "data": {
      "text/html": [
       "'jupyter nbconvert --to script --output sc_seurat /Volumes/ccrsf-ifx/Software/github/SF_scMaestro/workflow/scripts/rna/sc_seurat.ipynb&gt; /dev/null 2&gt;&amp;1 '"
      ],
      "text/latex": [
       "'jupyter nbconvert --to script --output sc\\_seurat /Volumes/ccrsf-ifx/Software/github/SF\\_scMaestro/workflow/scripts/rna/sc\\_seurat.ipynb> /dev/null 2>\\&1 '"
      ],
      "text/markdown": [
       "'jupyter nbconvert --to script --output sc_seurat /Volumes/ccrsf-ifx/Software/github/SF_scMaestro/workflow/scripts/rna/sc_seurat.ipynb&gt; /dev/null 2&gt;&amp;1 '"
      ],
      "text/plain": [
       "[1] \"jupyter nbconvert --to script --output sc_seurat /Volumes/ccrsf-ifx/Software/github/SF_scMaestro/workflow/scripts/rna/sc_seurat.ipynb> /dev/null 2>&1 \""
      ]
     },
     "metadata": {},
     "output_type": "display_data"
    },
    {
     "data": {
      "text/html": [],
      "text/latex": [],
      "text/markdown": [],
      "text/plain": [
       "character(0)"
      ]
     },
     "metadata": {},
     "output_type": "display_data"
    }
   ],
   "source": [
    "notebook_prefix = \"sc_seurat\"                                                         # %exclude_jupyterlab%\n",
    "notebook_name = paste0(notebook_prefix, \".ipynb\")                                     # %exclude_jupyterlab%\n",
    "notebook_r = paste0(script_path, \"/\", paste0(notebook_prefix, \".r\"))                  # %exclude_jupyterlab%\n",
    "notebook_path = paste0(script_path, \"/\", notebook_name)                               # %exclude_jupyterlab%\n",
    "opt_name = paste0(script_path, \"/\", sub(\".ipynb\", \"_opt.R\", notebook_name))           # %exclude_jupyterlab%\n",
    "output = paste0(script_path, \"/\", sub(\".ipynb\", \".prod.R\", notebook_name))            # %exclude_jupyterlab%\n",
    "cmd1 = paste0(\"jupyter nbconvert --to script --output \",                              # %exclude_jupyterlab%\n",
    "             notebook_prefix, ' ', notebook_path, \"> /dev/null 2>&1 \")                # %exclude_jupyterlab%\n",
    "cmd1                                                                                  # %exclude_jupyterlab%\n",
    "system(cmd1, intern = TRUE)                                                            # %exclude_jupyterlab%"
   ]
  },
  {
   "cell_type": "code",
   "execution_count": 3,
   "id": "d1c24963-ff07-4aa9-abe9-cea08fc9e370",
   "metadata": {},
   "outputs": [
    {
     "data": {
      "text/html": [
       "'cat -s /Volumes/ccrsf-ifx/Software/github/SF_scMaestro/workflow/scripts/rna/sc_seurat_opt.R /Volumes/ccrsf-ifx/Software/github/SF_scMaestro/workflow/scripts/rna/sc_seurat.r |grep -v exclude_jupyterlab &gt; /Volumes/ccrsf-ifx/Software/github/SF_scMaestro/workflow/scripts/rna/sc_seurat.prod.R 2&gt;&amp;1'"
      ],
      "text/latex": [
       "'cat -s /Volumes/ccrsf-ifx/Software/github/SF\\_scMaestro/workflow/scripts/rna/sc\\_seurat\\_opt.R /Volumes/ccrsf-ifx/Software/github/SF\\_scMaestro/workflow/scripts/rna/sc\\_seurat.r \\textbar{}grep -v exclude\\_jupyterlab > /Volumes/ccrsf-ifx/Software/github/SF\\_scMaestro/workflow/scripts/rna/sc\\_seurat.prod.R 2>\\&1'"
      ],
      "text/markdown": [
       "'cat -s /Volumes/ccrsf-ifx/Software/github/SF_scMaestro/workflow/scripts/rna/sc_seurat_opt.R /Volumes/ccrsf-ifx/Software/github/SF_scMaestro/workflow/scripts/rna/sc_seurat.r |grep -v exclude_jupyterlab &gt; /Volumes/ccrsf-ifx/Software/github/SF_scMaestro/workflow/scripts/rna/sc_seurat.prod.R 2&gt;&amp;1'"
      ],
      "text/plain": [
       "[1] \"cat -s /Volumes/ccrsf-ifx/Software/github/SF_scMaestro/workflow/scripts/rna/sc_seurat_opt.R /Volumes/ccrsf-ifx/Software/github/SF_scMaestro/workflow/scripts/rna/sc_seurat.r |grep -v exclude_jupyterlab > /Volumes/ccrsf-ifx/Software/github/SF_scMaestro/workflow/scripts/rna/sc_seurat.prod.R 2>&1\""
      ]
     },
     "metadata": {},
     "output_type": "display_data"
    },
    {
     "data": {
      "text/html": [],
      "text/latex": [],
      "text/markdown": [],
      "text/plain": [
       "character(0)"
      ]
     },
     "metadata": {},
     "output_type": "display_data"
    }
   ],
   "source": [
    "cmd2 = paste0('cat -s ', opt_name, ' ', notebook_r,                                      # %exclude_jupyterlab%\n",
    "             ' |grep -v exclude_jupyterlab > ', output,  ' 2>&1')                     # %exclude_jupyterlab%\n",
    "cmd2                                                                                  # %exclude_jupyterlab%\n",
    "system(cmd2, intern = T)                                                              # %exclude_jupyterlab%\n",
    "system(paste0(\"rm \", notebook_r))                                                     # %exclude_jupyterlab%  "
   ]
  },
  {
   "cell_type": "code",
   "execution_count": null,
   "id": "85e87b25-4da6-4829-9d2f-0932ca816848",
   "metadata": {},
   "outputs": [],
   "source": []
  }
 ],
 "metadata": {
  "kernelspec": {
   "display_name": "R",
   "language": "R",
   "name": "r"
  },
  "language_info": {
   "codemirror_mode": "r",
   "file_extension": ".r",
   "mimetype": "text/x-r-source",
   "name": "R",
   "pygments_lexer": "r",
   "version": "4.3.3"
  }
 },
 "nbformat": 4,
 "nbformat_minor": 5
}
