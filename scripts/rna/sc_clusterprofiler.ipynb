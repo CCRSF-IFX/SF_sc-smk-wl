{
 "cells": [
  {
   "cell_type": "code",
   "execution_count": 1,
   "id": "7d59c03c-a0db-4e4b-b5c0-0bf9b19e193c",
   "metadata": {
    "tags": []
   },
   "outputs": [
    {
     "data": {
      "text/html": [
       "'/Volumes/ccrsf-ifx/Software/github/SF_scMaestro/workflow/scripts/rna'"
      ],
      "text/latex": [
       "'/Volumes/ccrsf-ifx/Software/github/SF\\_scMaestro/workflow/scripts/rna'"
      ],
      "text/markdown": [
       "'/Volumes/ccrsf-ifx/Software/github/SF_scMaestro/workflow/scripts/rna'"
      ],
      "text/plain": [
       "[1] \"/Volumes/ccrsf-ifx/Software/github/SF_scMaestro/workflow/scripts/rna\""
      ]
     },
     "metadata": {},
     "output_type": "display_data"
    }
   ],
   "source": [
    "script_path = getwd()                                # %exclude_jupyterlab%\n",
    "script_path                                          # %exclude_jupyterlab%"
   ]
  },
  {
   "cell_type": "code",
   "execution_count": 8,
   "id": "5cb40c17-ab8a-4829-aaf6-7c138be62667",
   "metadata": {
    "tags": []
   },
   "outputs": [
    {
     "data": {
      "text/html": [],
      "text/latex": [],
      "text/markdown": [],
      "text/plain": [
       "character(0)"
      ]
     },
     "metadata": {},
     "output_type": "display_data"
    }
   ],
   "source": [
    "system(paste0('Rscript ', script_path,                # %exclude_jupyterlab%\n",
    "        '/sc_clusterprofiler_opt.R --path=/Volumes/ccrsf-static/Analysis/xies4/github_repos/pipeline_dev_test/test4pl_outdir_3sample_subset1/NyallLondon_CS032345_16scRNASeqTCRLib_081122_rna_full_default/Analysis/1_51_IP_10_5GEX/seurat/ --outdir=\"test_dir\" --genome=\"hg38\" '),  # %exclude_jupyterlab%\n",
    "       intern = T) # %exclude_jupyterlab%"
   ]
  },
  {
   "cell_type": "code",
   "execution_count": 9,
   "id": "72a70403-1ccc-43e1-9353-ed3b0c7761c2",
   "metadata": {
    "tags": []
   },
   "outputs": [],
   "source": [
    "library(Seurat)\n",
    "library(clusterProfiler)\n",
    "library(dplyr)"
   ]
  },
  {
   "cell_type": "code",
   "execution_count": 10,
   "id": "967befb0-1df1-4c50-a6db-112295af6270",
   "metadata": {
    "tags": []
   },
   "outputs": [],
   "source": [
    "opt = readRDS(\"./test_dir/opt.rds\")                                 # %exclude_jupyterlab%"
   ]
  },
  {
   "cell_type": "code",
   "execution_count": 11,
   "id": "81c8f115-1a08-490a-928c-118723fdaddb",
   "metadata": {},
   "outputs": [
    {
     "data": {
      "text/html": [
       "<dl>\n",
       "\t<dt>$path</dt>\n",
       "\t\t<dd>'/Volumes/ccrsf-static/Analysis/xies4/github_repos/pipeline_dev_test/test4pl_outdir_3sample_subset1/NyallLondon_CS032345_16scRNASeqTCRLib_081122_rna_full_default/Analysis/1_51_IP_10_5GEX/seurat/'</dd>\n",
       "\t<dt>$sampleid</dt>\n",
       "\t\t<dd>'scRNA'</dd>\n",
       "\t<dt>$genome</dt>\n",
       "\t\t<dd>'hg38'</dd>\n",
       "\t<dt>$outdir</dt>\n",
       "\t\t<dd>'test_dir'</dd>\n",
       "\t<dt>$help</dt>\n",
       "\t\t<dd>FALSE</dd>\n",
       "</dl>\n"
      ],
      "text/latex": [
       "\\begin{description}\n",
       "\\item[\\$path] '/Volumes/ccrsf-static/Analysis/xies4/github\\_repos/pipeline\\_dev\\_test/test4pl\\_outdir\\_3sample\\_subset1/NyallLondon\\_CS032345\\_16scRNASeqTCRLib\\_081122\\_rna\\_full\\_default/Analysis/1\\_51\\_IP\\_10\\_5GEX/seurat/'\n",
       "\\item[\\$sampleid] 'scRNA'\n",
       "\\item[\\$genome] 'hg38'\n",
       "\\item[\\$outdir] 'test\\_dir'\n",
       "\\item[\\$help] FALSE\n",
       "\\end{description}\n"
      ],
      "text/markdown": [
       "$path\n",
       ":   '/Volumes/ccrsf-static/Analysis/xies4/github_repos/pipeline_dev_test/test4pl_outdir_3sample_subset1/NyallLondon_CS032345_16scRNASeqTCRLib_081122_rna_full_default/Analysis/1_51_IP_10_5GEX/seurat/'\n",
       "$sampleid\n",
       ":   'scRNA'\n",
       "$genome\n",
       ":   'hg38'\n",
       "$outdir\n",
       ":   'test_dir'\n",
       "$help\n",
       ":   FALSE\n",
       "\n",
       "\n"
      ],
      "text/plain": [
       "$path\n",
       "[1] \"/Volumes/ccrsf-static/Analysis/xies4/github_repos/pipeline_dev_test/test4pl_outdir_3sample_subset1/NyallLondon_CS032345_16scRNASeqTCRLib_081122_rna_full_default/Analysis/1_51_IP_10_5GEX/seurat/\"\n",
       "\n",
       "$sampleid\n",
       "[1] \"scRNA\"\n",
       "\n",
       "$genome\n",
       "[1] \"hg38\"\n",
       "\n",
       "$outdir\n",
       "[1] \"test_dir\"\n",
       "\n",
       "$help\n",
       "[1] FALSE\n"
      ]
     },
     "metadata": {},
     "output_type": "display_data"
    }
   ],
   "source": [
    "opt                                                              "
   ]
  },
  {
   "cell_type": "code",
   "execution_count": 14,
   "id": "8c716ffe-40f7-414d-8aa8-6ed6f0c35870",
   "metadata": {},
   "outputs": [],
   "source": [
    "seuratPath = opt$path\n",
    "genome     = opt$genome\n"
   ]
  },
  {
   "cell_type": "code",
   "execution_count": 15,
   "id": "2a379835-57cc-4a9c-ae72-d8fdc3767030",
   "metadata": {},
   "outputs": [
    {
     "ename": "ERROR",
     "evalue": "Error in library(org.Hs.eg.db): there is no package called ‘org.Hs.eg.db’\n",
     "output_type": "error",
     "traceback": [
      "Error in library(org.Hs.eg.db): there is no package called ‘org.Hs.eg.db’\nTraceback:\n",
      "1. library(org.Hs.eg.db)   # at line 6 of file <text>"
     ]
    }
   ],
   "source": [
    "if (genome == \"mm10\") {\n",
    "  library(org.Mm.eg.db)\n",
    "  orgdb = \"org.Mm.eg.db\"\n",
    "  organism = \"mmu\"\n",
    "}else if(genome == \"hg38\"){\n",
    "  library(org.Hs.eg.db)\n",
    "  orgdb = \"org.Hs.eg.db\"\n",
    "  organism = \"hsa\"\n",
    "}"
   ]
  },
  {
   "cell_type": "code",
   "execution_count": 18,
   "id": "c44f4b71-ab83-47eb-8904-60deef547669",
   "metadata": {},
   "outputs": [
    {
     "ename": "ERROR",
     "evalue": "Error in library(org.Hs.eg.db): there is no package called ‘org.Hs.eg.db’\n",
     "output_type": "error",
     "traceback": [
      "Error in library(org.Hs.eg.db): there is no package called ‘org.Hs.eg.db’\nTraceback:\n",
      "1. library(org.Hs.eg.db)"
     ]
    }
   ],
   "source": [
    "library(org.Hs.eg.db)"
   ]
  },
  {
   "cell_type": "code",
   "execution_count": 17,
   "id": "b6932932-2c0e-4f59-afd7-05c91b0a9ae8",
   "metadata": {},
   "outputs": [
    {
     "ename": "ERROR",
     "evalue": "Error in library(org.Mm.eg.db): there is no package called ‘org.Mm.eg.db’\n",
     "output_type": "error",
     "traceback": [
      "Error in library(org.Mm.eg.db): there is no package called ‘org.Mm.eg.db’\nTraceback:\n",
      "1. library(org.Mm.eg.db)"
     ]
    }
   ],
   "source": [
    "library(org.Mm.eg.db)"
   ]
  },
  {
   "cell_type": "code",
   "execution_count": null,
   "id": "b17eb636-dffa-42cf-9bcc-828fc703bdcb",
   "metadata": {},
   "outputs": [],
   "source": []
  }
 ],
 "metadata": {
  "kernelspec": {
   "display_name": "R",
   "language": "R",
   "name": "r"
  },
  "language_info": {
   "codemirror_mode": "r",
   "file_extension": ".r",
   "mimetype": "text/x-r-source",
   "name": "R",
   "pygments_lexer": "r",
   "version": "4.3.3"
  }
 },
 "nbformat": 4,
 "nbformat_minor": 5
}
