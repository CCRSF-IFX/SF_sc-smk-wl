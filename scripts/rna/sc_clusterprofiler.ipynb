{
 "cells": [
  {
   "cell_type": "code",
   "execution_count": 1,
   "id": "7d59c03c-a0db-4e4b-b5c0-0bf9b19e193c",
   "metadata": {
    "tags": []
   },
   "outputs": [
    {
     "data": {
      "text/html": [
       "'/Volumes/ccrsf-ifx/Software/github/SF_scMaestro/workflow/scripts/rna'"
      ],
      "text/latex": [
       "'/Volumes/ccrsf-ifx/Software/github/SF\\_scMaestro/workflow/scripts/rna'"
      ],
      "text/markdown": [
       "'/Volumes/ccrsf-ifx/Software/github/SF_scMaestro/workflow/scripts/rna'"
      ],
      "text/plain": [
       "[1] \"/Volumes/ccrsf-ifx/Software/github/SF_scMaestro/workflow/scripts/rna\""
      ]
     },
     "metadata": {},
     "output_type": "display_data"
    }
   ],
   "source": [
    "script_path = getwd()                                # %exclude_jupyterlab%\n",
    "script_path                                          # %exclude_jupyterlab%"
   ]
  },
  {
   "cell_type": "code",
   "execution_count": 2,
   "id": "d19f794a-e5ea-4dab-ab24-2fe5fa3a60f0",
   "metadata": {},
   "outputs": [],
   "source": [
    "outdir = \"/Volumes/ccrsf-static/Analysis/xies4/github_repos/pipeline_dev_test/test4pl_outdir_3sample_subset1/NyallLondon_CS032345_16scRNASeqTCRLib_081122_rna_full_default/Analysis/1_51_IP_10_5GEX/clusterprofiler/\" # %exclude_jupyterlab%\n",
    "path = \"/Volumes/ccrsf-static/Analysis/xies4/github_repos/pipeline_dev_test/test4pl_outdir_3sample_subset1/NyallLondon_CS032345_16scRNASeqTCRLib_081122_rna_full_default/Analysis/1_51_IP_10_5GEX/seurat/\"            # %exclude_jupyterlab%"
   ]
  },
  {
   "cell_type": "code",
   "execution_count": 3,
   "id": "5cb40c17-ab8a-4829-aaf6-7c138be62667",
   "metadata": {
    "tags": []
   },
   "outputs": [
    {
     "data": {
      "text/html": [],
      "text/latex": [],
      "text/markdown": [],
      "text/plain": [
       "character(0)"
      ]
     },
     "metadata": {},
     "output_type": "display_data"
    }
   ],
   "source": [
    "system(paste0('Rscript ', script_path,                # %exclude_jupyterlab%\n",
    "        '/sc_clusterprofiler_opt.R --path=', path, ' --outdir=', outdir,'--genome=\"hg38\" '),  # %exclude_jupyterlab%\n",
    "       intern = T) # %exclude_jupyterlab%"
   ]
  },
  {
   "cell_type": "code",
   "execution_count": 6,
   "id": "72a70403-1ccc-43e1-9353-ed3b0c7761c2",
   "metadata": {
    "tags": []
   },
   "outputs": [],
   "source": [
    "library(Seurat)\n",
    "library(clusterProfiler)\n",
    "library(dplyr)"
   ]
  },
  {
   "cell_type": "code",
   "execution_count": 7,
   "id": "c322b18a-975f-4b9e-91ae-116466aa1fc1",
   "metadata": {},
   "outputs": [
    {
     "data": {
      "text/html": [
       "'/Volumes/ccrsf-static/Analysis/xies4/github_repos/pipeline_dev_test/test4pl_outdir_3sample_subset1/NyallLondon_CS032345_16scRNASeqTCRLib_081122_rna_full_default/Analysis/1_51_IP_10_5GEX/clusterprofiler'"
      ],
      "text/latex": [
       "'/Volumes/ccrsf-static/Analysis/xies4/github\\_repos/pipeline\\_dev\\_test/test4pl\\_outdir\\_3sample\\_subset1/NyallLondon\\_CS032345\\_16scRNASeqTCRLib\\_081122\\_rna\\_full\\_default/Analysis/1\\_51\\_IP\\_10\\_5GEX/clusterprofiler'"
      ],
      "text/markdown": [
       "'/Volumes/ccrsf-static/Analysis/xies4/github_repos/pipeline_dev_test/test4pl_outdir_3sample_subset1/NyallLondon_CS032345_16scRNASeqTCRLib_081122_rna_full_default/Analysis/1_51_IP_10_5GEX/clusterprofiler'"
      ],
      "text/plain": [
       "[1] \"/Volumes/ccrsf-static/Analysis/xies4/github_repos/pipeline_dev_test/test4pl_outdir_3sample_subset1/NyallLondon_CS032345_16scRNASeqTCRLib_081122_rna_full_default/Analysis/1_51_IP_10_5GEX/clusterprofiler\""
      ]
     },
     "metadata": {},
     "output_type": "display_data"
    },
    {
     "data": {
      "text/html": [
       "'/Volumes/ccrsf-static/Analysis/xies4/github_repos/pipeline_dev_test/test4pl_outdir_3sample_subset1/NyallLondon_CS032345_16scRNASeqTCRLib_081122_rna_full_default/Analysis/1_51_IP_10_5GEX/clusterprofiler'"
      ],
      "text/latex": [
       "'/Volumes/ccrsf-static/Analysis/xies4/github\\_repos/pipeline\\_dev\\_test/test4pl\\_outdir\\_3sample\\_subset1/NyallLondon\\_CS032345\\_16scRNASeqTCRLib\\_081122\\_rna\\_full\\_default/Analysis/1\\_51\\_IP\\_10\\_5GEX/clusterprofiler'"
      ],
      "text/markdown": [
       "'/Volumes/ccrsf-static/Analysis/xies4/github_repos/pipeline_dev_test/test4pl_outdir_3sample_subset1/NyallLondon_CS032345_16scRNASeqTCRLib_081122_rna_full_default/Analysis/1_51_IP_10_5GEX/clusterprofiler'"
      ],
      "text/plain": [
       "[1] \"/Volumes/ccrsf-static/Analysis/xies4/github_repos/pipeline_dev_test/test4pl_outdir_3sample_subset1/NyallLondon_CS032345_16scRNASeqTCRLib_081122_rna_full_default/Analysis/1_51_IP_10_5GEX/clusterprofiler\""
      ]
     },
     "metadata": {},
     "output_type": "display_data"
    }
   ],
   "source": [
    "getwd()                                         # %exclude_jupyterlab%\n",
    "setwd(outdir)                                   # %exclude_jupyterlab%\n",
    "getwd()"
   ]
  },
  {
   "cell_type": "code",
   "execution_count": null,
   "id": "b9ba2120-d128-4d03-a2e4-734b75ac7f03",
   "metadata": {},
   "outputs": [],
   "source": []
  },
  {
   "cell_type": "code",
   "execution_count": 8,
   "id": "967befb0-1df1-4c50-a6db-112295af6270",
   "metadata": {
    "tags": []
   },
   "outputs": [],
   "source": [
    "opt = readRDS(\"./opt.rds\")                                 # %exclude_jupyterlab%"
   ]
  },
  {
   "cell_type": "code",
   "execution_count": 9,
   "id": "81c8f115-1a08-490a-928c-118723fdaddb",
   "metadata": {},
   "outputs": [
    {
     "data": {
      "text/html": [
       "<dl>\n",
       "\t<dt>$path</dt>\n",
       "\t\t<dd>'/Volumes/ccrsf-static/Analysis/xies4/github_repos/pipeline_dev_test/test4pl_outdir_3sample_subset1/NyallLondon_CS032345_16scRNASeqTCRLib_081122_rna_full_default/Analysis/1_51_IP_10_5GEX/seurat/'</dd>\n",
       "\t<dt>$sampleid</dt>\n",
       "\t\t<dd>'scRNA'</dd>\n",
       "\t<dt>$genome</dt>\n",
       "\t\t<dd>'hg38'</dd>\n",
       "\t<dt>$outdir</dt>\n",
       "\t\t<dd>'/Volumes/ccrsf-static/Analysis/xies4/github_repos/pipeline_dev_test/test4pl_outdir_3sample_subset1/NyallLondon_CS032345_16scRNASeqTCRLib_081122_rna_full_default/Analysis/1_51_IP_10_5GEX/clusterprofiler/'</dd>\n",
       "\t<dt>$help</dt>\n",
       "\t\t<dd>FALSE</dd>\n",
       "</dl>\n"
      ],
      "text/latex": [
       "\\begin{description}\n",
       "\\item[\\$path] '/Volumes/ccrsf-static/Analysis/xies4/github\\_repos/pipeline\\_dev\\_test/test4pl\\_outdir\\_3sample\\_subset1/NyallLondon\\_CS032345\\_16scRNASeqTCRLib\\_081122\\_rna\\_full\\_default/Analysis/1\\_51\\_IP\\_10\\_5GEX/seurat/'\n",
       "\\item[\\$sampleid] 'scRNA'\n",
       "\\item[\\$genome] 'hg38'\n",
       "\\item[\\$outdir] '/Volumes/ccrsf-static/Analysis/xies4/github\\_repos/pipeline\\_dev\\_test/test4pl\\_outdir\\_3sample\\_subset1/NyallLondon\\_CS032345\\_16scRNASeqTCRLib\\_081122\\_rna\\_full\\_default/Analysis/1\\_51\\_IP\\_10\\_5GEX/clusterprofiler/'\n",
       "\\item[\\$help] FALSE\n",
       "\\end{description}\n"
      ],
      "text/markdown": [
       "$path\n",
       ":   '/Volumes/ccrsf-static/Analysis/xies4/github_repos/pipeline_dev_test/test4pl_outdir_3sample_subset1/NyallLondon_CS032345_16scRNASeqTCRLib_081122_rna_full_default/Analysis/1_51_IP_10_5GEX/seurat/'\n",
       "$sampleid\n",
       ":   'scRNA'\n",
       "$genome\n",
       ":   'hg38'\n",
       "$outdir\n",
       ":   '/Volumes/ccrsf-static/Analysis/xies4/github_repos/pipeline_dev_test/test4pl_outdir_3sample_subset1/NyallLondon_CS032345_16scRNASeqTCRLib_081122_rna_full_default/Analysis/1_51_IP_10_5GEX/clusterprofiler/'\n",
       "$help\n",
       ":   FALSE\n",
       "\n",
       "\n"
      ],
      "text/plain": [
       "$path\n",
       "[1] \"/Volumes/ccrsf-static/Analysis/xies4/github_repos/pipeline_dev_test/test4pl_outdir_3sample_subset1/NyallLondon_CS032345_16scRNASeqTCRLib_081122_rna_full_default/Analysis/1_51_IP_10_5GEX/seurat/\"\n",
       "\n",
       "$sampleid\n",
       "[1] \"scRNA\"\n",
       "\n",
       "$genome\n",
       "[1] \"hg38\"\n",
       "\n",
       "$outdir\n",
       "[1] \"/Volumes/ccrsf-static/Analysis/xies4/github_repos/pipeline_dev_test/test4pl_outdir_3sample_subset1/NyallLondon_CS032345_16scRNASeqTCRLib_081122_rna_full_default/Analysis/1_51_IP_10_5GEX/clusterprofiler/\"\n",
       "\n",
       "$help\n",
       "[1] FALSE\n"
      ]
     },
     "metadata": {},
     "output_type": "display_data"
    }
   ],
   "source": [
    "opt                                                              "
   ]
  },
  {
   "cell_type": "code",
   "execution_count": 10,
   "id": "6c657892-dca0-425c-8be8-49272747a53d",
   "metadata": {},
   "outputs": [],
   "source": [
    "setwd(opt$outdir)                       "
   ]
  },
  {
   "cell_type": "code",
   "execution_count": 11,
   "id": "8c716ffe-40f7-414d-8aa8-6ed6f0c35870",
   "metadata": {},
   "outputs": [],
   "source": [
    "seuratPath = opt$path\n",
    "genome     = opt$genome\n"
   ]
  },
  {
   "cell_type": "code",
   "execution_count": 12,
   "id": "2a379835-57cc-4a9c-ae72-d8fdc3767030",
   "metadata": {},
   "outputs": [
    {
     "name": "stderr",
     "output_type": "stream",
     "text": [
      "Loading required package: AnnotationDbi\n",
      "\n",
      "Loading required package: stats4\n",
      "\n",
      "Loading required package: BiocGenerics\n",
      "\n",
      "\n",
      "Attaching package: ‘BiocGenerics’\n",
      "\n",
      "\n",
      "The following objects are masked from ‘package:dplyr’:\n",
      "\n",
      "    combine, intersect, setdiff, union\n",
      "\n",
      "\n",
      "The following object is masked from ‘package:SeuratObject’:\n",
      "\n",
      "    intersect\n",
      "\n",
      "\n",
      "The following objects are masked from ‘package:stats’:\n",
      "\n",
      "    IQR, mad, sd, var, xtabs\n",
      "\n",
      "\n",
      "The following objects are masked from ‘package:base’:\n",
      "\n",
      "    anyDuplicated, aperm, append, as.data.frame, basename, cbind,\n",
      "    colnames, dirname, do.call, duplicated, eval, evalq, Filter, Find,\n",
      "    get, grep, grepl, intersect, is.unsorted, lapply, Map, mapply,\n",
      "    match, mget, order, paste, pmax, pmax.int, pmin, pmin.int,\n",
      "    Position, rank, rbind, Reduce, rownames, sapply, setdiff, sort,\n",
      "    table, tapply, union, unique, unsplit, which.max, which.min\n",
      "\n",
      "\n",
      "Loading required package: Biobase\n",
      "\n",
      "Welcome to Bioconductor\n",
      "\n",
      "    Vignettes contain introductory material; view with\n",
      "    'browseVignettes()'. To cite Bioconductor, see\n",
      "    'citation(\"Biobase\")', and for packages 'citation(\"pkgname\")'.\n",
      "\n",
      "\n",
      "Loading required package: IRanges\n",
      "\n",
      "Loading required package: S4Vectors\n",
      "\n",
      "\n",
      "Attaching package: ‘S4Vectors’\n",
      "\n",
      "\n",
      "The following objects are masked from ‘package:dplyr’:\n",
      "\n",
      "    first, rename\n",
      "\n",
      "\n",
      "The following object is masked from ‘package:clusterProfiler’:\n",
      "\n",
      "    rename\n",
      "\n",
      "\n",
      "The following object is masked from ‘package:utils’:\n",
      "\n",
      "    findMatches\n",
      "\n",
      "\n",
      "The following objects are masked from ‘package:base’:\n",
      "\n",
      "    expand.grid, I, unname\n",
      "\n",
      "\n",
      "\n",
      "Attaching package: ‘IRanges’\n",
      "\n",
      "\n",
      "The following objects are masked from ‘package:dplyr’:\n",
      "\n",
      "    collapse, desc, slice\n",
      "\n",
      "\n",
      "The following object is masked from ‘package:clusterProfiler’:\n",
      "\n",
      "    slice\n",
      "\n",
      "\n",
      "The following object is masked from ‘package:sp’:\n",
      "\n",
      "    %over%\n",
      "\n",
      "\n",
      "\n",
      "Attaching package: ‘AnnotationDbi’\n",
      "\n",
      "\n",
      "The following object is masked from ‘package:dplyr’:\n",
      "\n",
      "    select\n",
      "\n",
      "\n",
      "The following object is masked from ‘package:clusterProfiler’:\n",
      "\n",
      "    select\n",
      "\n",
      "\n",
      "\n",
      "\n"
     ]
    }
   ],
   "source": [
    "if (genome == \"mm10\") {\n",
    "  library(org.Mm.eg.db)\n",
    "  orgdb = \"org.Mm.eg.db\"\n",
    "  organism = \"mmu\"\n",
    "}else if(genome == \"hg38\"){\n",
    "  library(org.Hs.eg.db)\n",
    "  orgdb = \"org.Hs.eg.db\"\n",
    "  organism = \"hsa\"\n",
    "}"
   ]
  },
  {
   "cell_type": "code",
   "execution_count": 13,
   "id": "7e3e1edc-28f8-4e3a-a843-7b649f4cf182",
   "metadata": {},
   "outputs": [],
   "source": [
    "paths <- Sys.glob(paste(seuratPath, '/markers_res*.rds', sep=\"\"))\n",
    "\n",
    "resolutions <- sub(\".rds\", '', sub(paste(seuratPath,'/markers_res', sep=\"\"),'',paths))\n",
    "\n",
    "markers <- vector(\"list\")\n",
    "for (res in resolutions){\n",
    "  markers[[res]] <- readRDS(paste(seuratPath, \"/markers_res\", res, \".rds\", sep=\"\"))\n",
    "}"
   ]
  },
  {
   "cell_type": "code",
   "execution_count": 14,
   "id": "3844b5aa-f610-4e6a-b041-b8ce2031696d",
   "metadata": {},
   "outputs": [
    {
     "name": "stderr",
     "output_type": "stream",
     "text": [
      "'select()' returned 1:1 mapping between keys and columns\n",
      "\n",
      "Warning message in bitr(result[[i]], fromType = \"SYMBOL\", toType = \"ENTREZID\", OrgDb = orgdb):\n",
      "“1% of input gene IDs are fail to map...”\n",
      "'select()' returned 1:1 mapping between keys and columns\n",
      "\n",
      "Warning message in bitr(result[[i]], fromType = \"SYMBOL\", toType = \"ENTREZID\", OrgDb = orgdb):\n",
      "“2% of input gene IDs are fail to map...”\n",
      "'select()' returned 1:1 mapping between keys and columns\n",
      "\n",
      "Warning message in bitr(result[[i]], fromType = \"SYMBOL\", toType = \"ENTREZID\", OrgDb = orgdb):\n",
      "“2% of input gene IDs are fail to map...”\n",
      "'select()' returned 1:1 mapping between keys and columns\n",
      "\n",
      "'select()' returned 1:1 mapping between keys and columns\n",
      "\n",
      "Warning message in bitr(result[[i]], fromType = \"SYMBOL\", toType = \"ENTREZID\", OrgDb = orgdb):\n",
      "“1% of input gene IDs are fail to map...”\n",
      "'select()' returned 1:1 mapping between keys and columns\n",
      "\n",
      "Warning message in bitr(result[[i]], fromType = \"SYMBOL\", toType = \"ENTREZID\", OrgDb = orgdb):\n",
      "“19% of input gene IDs are fail to map...”\n",
      "'select()' returned 1:1 mapping between keys and columns\n",
      "\n",
      "Warning message in bitr(result[[i]], fromType = \"SYMBOL\", toType = \"ENTREZID\", OrgDb = orgdb):\n",
      "“1% of input gene IDs are fail to map...”\n",
      "'select()' returned 1:1 mapping between keys and columns\n",
      "\n",
      "Warning message in bitr(result[[i]], fromType = \"SYMBOL\", toType = \"ENTREZID\", OrgDb = orgdb):\n",
      "“5% of input gene IDs are fail to map...”\n",
      "Warning message in file(con, \"r\"):\n",
      "“URL 'https://rest.kegg.jp/link/hsa/pathway': status was 'SSL peer certificate or SSH remote key was not OK'”\n"
     ]
    },
    {
     "name": "stdout",
     "output_type": "stream",
     "text": [
      "Error in file(con, \"r\") : \n",
      "  cannot open the connection to 'https://rest.kegg.jp/link/hsa/pathway'\n",
      "Error in geom_point(aes_string(fill = colorBy)) : \n",
      "  \u001b[1m\u001b[22mProblem while computing aesthetics.\n",
      "\u001b[36mℹ\u001b[39m Error occurred in the 1st layer.\n",
      "\u001b[1mCaused by error in `compute_aesthetics()`:\u001b[22m\n",
      "\u001b[1m\u001b[22m\u001b[33m!\u001b[39m Aesthetics are not valid data columns.\n",
      "\u001b[31m✖\u001b[39m The following aesthetics are invalid:\n",
      "\u001b[31m✖\u001b[39m `fill = p.adjust`\n",
      "\u001b[36mℹ\u001b[39m Did you mistype the name of a data column or forget to add `after_stat()`?\n"
     ]
    },
    {
     "name": "stderr",
     "output_type": "stream",
     "text": [
      "'select()' returned 1:1 mapping between keys and columns\n",
      "\n",
      "Warning message in bitr(result[[i]], fromType = \"SYMBOL\", toType = \"ENTREZID\", OrgDb = orgdb):\n",
      "“1% of input gene IDs are fail to map...”\n",
      "'select()' returned 1:1 mapping between keys and columns\n",
      "\n",
      "'select()' returned 1:1 mapping between keys and columns\n",
      "\n",
      "Warning message in bitr(result[[i]], fromType = \"SYMBOL\", toType = \"ENTREZID\", OrgDb = orgdb):\n",
      "“1% of input gene IDs are fail to map...”\n",
      "'select()' returned 1:1 mapping between keys and columns\n",
      "\n",
      "Warning message in bitr(result[[i]], fromType = \"SYMBOL\", toType = \"ENTREZID\", OrgDb = orgdb):\n",
      "“1% of input gene IDs are fail to map...”\n",
      "'select()' returned 1:1 mapping between keys and columns\n",
      "\n",
      "Warning message in bitr(result[[i]], fromType = \"SYMBOL\", toType = \"ENTREZID\", OrgDb = orgdb):\n",
      "“4% of input gene IDs are fail to map...”\n",
      "'select()' returned 1:1 mapping between keys and columns\n",
      "\n",
      "Warning message in bitr(result[[i]], fromType = \"SYMBOL\", toType = \"ENTREZID\", OrgDb = orgdb):\n",
      "“2% of input gene IDs are fail to map...”\n",
      "'select()' returned 1:1 mapping between keys and columns\n",
      "\n",
      "'select()' returned 1:1 mapping between keys and columns\n",
      "\n",
      "Warning message in bitr(result[[i]], fromType = \"SYMBOL\", toType = \"ENTREZID\", OrgDb = orgdb):\n",
      "“1% of input gene IDs are fail to map...”\n",
      "'select()' returned 1:1 mapping between keys and columns\n",
      "\n",
      "Warning message in bitr(result[[i]], fromType = \"SYMBOL\", toType = \"ENTREZID\", OrgDb = orgdb):\n",
      "“2% of input gene IDs are fail to map...”\n",
      "'select()' returned 1:1 mapping between keys and columns\n",
      "\n",
      "Warning message in bitr(result[[i]], fromType = \"SYMBOL\", toType = \"ENTREZID\", OrgDb = orgdb):\n",
      "“19% of input gene IDs are fail to map...”\n",
      "'select()' returned 1:1 mapping between keys and columns\n",
      "\n",
      "Warning message in bitr(result[[i]], fromType = \"SYMBOL\", toType = \"ENTREZID\", OrgDb = orgdb):\n",
      "“1% of input gene IDs are fail to map...”\n",
      "'select()' returned 1:1 mapping between keys and columns\n",
      "\n",
      "Warning message in bitr(result[[i]], fromType = \"SYMBOL\", toType = \"ENTREZID\", OrgDb = orgdb):\n",
      "“1% of input gene IDs are fail to map...”\n",
      "'select()' returned 1:1 mapping between keys and columns\n",
      "\n",
      "Warning message in bitr(result[[i]], fromType = \"SYMBOL\", toType = \"ENTREZID\", OrgDb = orgdb):\n",
      "“5% of input gene IDs are fail to map...”\n",
      "Warning message in file(con, \"r\"):\n",
      "“URL 'https://rest.kegg.jp/link/hsa/pathway': status was 'SSL peer certificate or SSH remote key was not OK'”\n"
     ]
    },
    {
     "name": "stdout",
     "output_type": "stream",
     "text": [
      "Error in file(con, \"r\") : \n",
      "  cannot open the connection to 'https://rest.kegg.jp/link/hsa/pathway'\n",
      "Error in geom_point(aes_string(fill = colorBy)) : \n",
      "  \u001b[1m\u001b[22mProblem while computing aesthetics.\n",
      "\u001b[36mℹ\u001b[39m Error occurred in the 1st layer.\n",
      "\u001b[1mCaused by error in `compute_aesthetics()`:\u001b[22m\n",
      "\u001b[1m\u001b[22m\u001b[33m!\u001b[39m Aesthetics are not valid data columns.\n",
      "\u001b[31m✖\u001b[39m The following aesthetics are invalid:\n",
      "\u001b[31m✖\u001b[39m `fill = p.adjust`\n",
      "\u001b[36mℹ\u001b[39m Did you mistype the name of a data column or forget to add `after_stat()`?\n"
     ]
    },
    {
     "name": "stderr",
     "output_type": "stream",
     "text": [
      "'select()' returned 1:1 mapping between keys and columns\n",
      "\n",
      "Warning message in bitr(result[[i]], fromType = \"SYMBOL\", toType = \"ENTREZID\", OrgDb = orgdb):\n",
      "“4% of input gene IDs are fail to map...”\n",
      "'select()' returned 1:1 mapping between keys and columns\n",
      "\n",
      "Warning message in bitr(result[[i]], fromType = \"SYMBOL\", toType = \"ENTREZID\", OrgDb = orgdb):\n",
      "“1% of input gene IDs are fail to map...”\n",
      "'select()' returned 1:1 mapping between keys and columns\n",
      "\n",
      "'select()' returned 1:1 mapping between keys and columns\n",
      "\n",
      "Warning message in bitr(result[[i]], fromType = \"SYMBOL\", toType = \"ENTREZID\", OrgDb = orgdb):\n",
      "“1% of input gene IDs are fail to map...”\n",
      "'select()' returned 1:1 mapping between keys and columns\n",
      "\n",
      "Warning message in bitr(result[[i]], fromType = \"SYMBOL\", toType = \"ENTREZID\", OrgDb = orgdb):\n",
      "“4% of input gene IDs are fail to map...”\n",
      "'select()' returned 1:1 mapping between keys and columns\n",
      "\n",
      "Warning message in bitr(result[[i]], fromType = \"SYMBOL\", toType = \"ENTREZID\", OrgDb = orgdb):\n",
      "“2% of input gene IDs are fail to map...”\n",
      "'select()' returned 1:1 mapping between keys and columns\n",
      "\n",
      "'select()' returned 1:1 mapping between keys and columns\n",
      "\n",
      "Warning message in bitr(result[[i]], fromType = \"SYMBOL\", toType = \"ENTREZID\", OrgDb = orgdb):\n",
      "“1% of input gene IDs are fail to map...”\n",
      "'select()' returned 1:1 mapping between keys and columns\n",
      "\n",
      "Warning message in bitr(result[[i]], fromType = \"SYMBOL\", toType = \"ENTREZID\", OrgDb = orgdb):\n",
      "“2% of input gene IDs are fail to map...”\n",
      "'select()' returned 1:1 mapping between keys and columns\n",
      "\n",
      "Warning message in bitr(result[[i]], fromType = \"SYMBOL\", toType = \"ENTREZID\", OrgDb = orgdb):\n",
      "“19% of input gene IDs are fail to map...”\n",
      "'select()' returned 1:1 mapping between keys and columns\n",
      "\n",
      "Warning message in bitr(result[[i]], fromType = \"SYMBOL\", toType = \"ENTREZID\", OrgDb = orgdb):\n",
      "“2% of input gene IDs are fail to map...”\n",
      "'select()' returned 1:1 mapping between keys and columns\n",
      "\n",
      "Warning message in bitr(result[[i]], fromType = \"SYMBOL\", toType = \"ENTREZID\", OrgDb = orgdb):\n",
      "“1% of input gene IDs are fail to map...”\n",
      "'select()' returned 1:1 mapping between keys and columns\n",
      "\n",
      "Warning message in bitr(result[[i]], fromType = \"SYMBOL\", toType = \"ENTREZID\", OrgDb = orgdb):\n",
      "“1% of input gene IDs are fail to map...”\n",
      "'select()' returned 1:1 mapping between keys and columns\n",
      "\n",
      "Warning message in bitr(result[[i]], fromType = \"SYMBOL\", toType = \"ENTREZID\", OrgDb = orgdb):\n",
      "“5% of input gene IDs are fail to map...”\n",
      "Warning message in file(con, \"r\"):\n",
      "“URL 'https://rest.kegg.jp/link/hsa/pathway': status was 'SSL peer certificate or SSH remote key was not OK'”\n"
     ]
    },
    {
     "name": "stdout",
     "output_type": "stream",
     "text": [
      "Error in file(con, \"r\") : \n",
      "  cannot open the connection to 'https://rest.kegg.jp/link/hsa/pathway'\n",
      "Error in geom_point(aes_string(fill = colorBy)) : \n",
      "  \u001b[1m\u001b[22mProblem while computing aesthetics.\n",
      "\u001b[36mℹ\u001b[39m Error occurred in the 1st layer.\n",
      "\u001b[1mCaused by error in `compute_aesthetics()`:\u001b[22m\n",
      "\u001b[1m\u001b[22m\u001b[33m!\u001b[39m Aesthetics are not valid data columns.\n",
      "\u001b[31m✖\u001b[39m The following aesthetics are invalid:\n",
      "\u001b[31m✖\u001b[39m `fill = p.adjust`\n",
      "\u001b[36mℹ\u001b[39m Did you mistype the name of a data column or forget to add `after_stat()`?\n"
     ]
    },
    {
     "name": "stderr",
     "output_type": "stream",
     "text": [
      "'select()' returned 1:1 mapping between keys and columns\n",
      "\n",
      "Warning message in bitr(result[[i]], fromType = \"SYMBOL\", toType = \"ENTREZID\", OrgDb = orgdb):\n",
      "“4% of input gene IDs are fail to map...”\n",
      "'select()' returned 1:1 mapping between keys and columns\n",
      "\n",
      "'select()' returned 1:1 mapping between keys and columns\n",
      "\n",
      "Warning message in bitr(result[[i]], fromType = \"SYMBOL\", toType = \"ENTREZID\", OrgDb = orgdb):\n",
      "“1% of input gene IDs are fail to map...”\n",
      "'select()' returned 1:1 mapping between keys and columns\n",
      "\n",
      "'select()' returned 1:1 mapping between keys and columns\n",
      "\n",
      "Warning message in bitr(result[[i]], fromType = \"SYMBOL\", toType = \"ENTREZID\", OrgDb = orgdb):\n",
      "“4% of input gene IDs are fail to map...”\n",
      "'select()' returned 1:1 mapping between keys and columns\n",
      "\n",
      "Warning message in bitr(result[[i]], fromType = \"SYMBOL\", toType = \"ENTREZID\", OrgDb = orgdb):\n",
      "“1% of input gene IDs are fail to map...”\n",
      "'select()' returned 1:1 mapping between keys and columns\n",
      "\n",
      "Warning message in bitr(result[[i]], fromType = \"SYMBOL\", toType = \"ENTREZID\", OrgDb = orgdb):\n",
      "“2% of input gene IDs are fail to map...”\n",
      "'select()' returned 1:1 mapping between keys and columns\n",
      "\n",
      "'select()' returned 1:1 mapping between keys and columns\n",
      "\n",
      "Warning message in bitr(result[[i]], fromType = \"SYMBOL\", toType = \"ENTREZID\", OrgDb = orgdb):\n",
      "“1% of input gene IDs are fail to map...”\n",
      "'select()' returned 1:1 mapping between keys and columns\n",
      "\n",
      "Warning message in bitr(result[[i]], fromType = \"SYMBOL\", toType = \"ENTREZID\", OrgDb = orgdb):\n",
      "“2% of input gene IDs are fail to map...”\n",
      "'select()' returned 1:1 mapping between keys and columns\n",
      "\n",
      "Warning message in bitr(result[[i]], fromType = \"SYMBOL\", toType = \"ENTREZID\", OrgDb = orgdb):\n",
      "“19% of input gene IDs are fail to map...”\n",
      "'select()' returned 1:1 mapping between keys and columns\n",
      "\n",
      "Warning message in bitr(result[[i]], fromType = \"SYMBOL\", toType = \"ENTREZID\", OrgDb = orgdb):\n",
      "“1% of input gene IDs are fail to map...”\n",
      "'select()' returned 1:1 mapping between keys and columns\n",
      "\n",
      "Warning message in bitr(result[[i]], fromType = \"SYMBOL\", toType = \"ENTREZID\", OrgDb = orgdb):\n",
      "“1% of input gene IDs are fail to map...”\n",
      "'select()' returned 1:1 mapping between keys and columns\n",
      "\n",
      "Warning message in bitr(result[[i]], fromType = \"SYMBOL\", toType = \"ENTREZID\", OrgDb = orgdb):\n",
      "“1% of input gene IDs are fail to map...”\n",
      "'select()' returned 1:1 mapping between keys and columns\n",
      "\n",
      "Warning message in bitr(result[[i]], fromType = \"SYMBOL\", toType = \"ENTREZID\", OrgDb = orgdb):\n",
      "“5% of input gene IDs are fail to map...”\n",
      "Warning message in file(con, \"r\"):\n",
      "“URL 'https://rest.kegg.jp/link/hsa/pathway': status was 'SSL peer certificate or SSH remote key was not OK'”\n"
     ]
    },
    {
     "name": "stdout",
     "output_type": "stream",
     "text": [
      "Error in file(con, \"r\") : \n",
      "  cannot open the connection to 'https://rest.kegg.jp/link/hsa/pathway'\n",
      "Error in geom_point(aes_string(fill = colorBy)) : \n",
      "  \u001b[1m\u001b[22mProblem while computing aesthetics.\n",
      "\u001b[36mℹ\u001b[39m Error occurred in the 1st layer.\n",
      "\u001b[1mCaused by error in `compute_aesthetics()`:\u001b[22m\n",
      "\u001b[1m\u001b[22m\u001b[33m!\u001b[39m Aesthetics are not valid data columns.\n",
      "\u001b[31m✖\u001b[39m The following aesthetics are invalid:\n",
      "\u001b[31m✖\u001b[39m `fill = p.adjust`\n",
      "\u001b[36mℹ\u001b[39m Did you mistype the name of a data column or forget to add `after_stat()`?\n"
     ]
    }
   ],
   "source": [
    "for (res in resolutions) {\n",
    "  degs <- markers[[res]]\n",
    "\n",
    "  maxGenes <- 100\n",
    "  categories <- 50\n",
    "  clusters <- unique(degs$cluster)\n",
    "\n",
    "  #up <- degs[degs[\"avg_logFC\"] > 0,]\n",
    "  #down <- degs[degs[\"avg_logFC\"] < 0,]\n",
    "  temp <- degs %>% group_by(cluster) %>% top_n(-maxGenes, p_val)\n",
    "\n",
    "  result <- vector(\"list\")\n",
    "  for(i in clusters){\n",
    "    result[i] <- list(temp$gene[temp$cluster==i])\n",
    "  }\n",
    "\n",
    "  ids = list()\n",
    "  for (i in clusters) {\n",
    "        try({\n",
    "                test <- bitr(result[[i]], fromType = \"SYMBOL\", toType = \"ENTREZID\", OrgDb = orgdb)\n",
    "                ids[paste(\"X\", i, sep = \"\")] <- list(test$ENTREZID)\n",
    "        })\n",
    "  }\n",
    "\n",
    "  try({\n",
    "    ck <- compareCluster(geneCluster = ids, fun = \"enrichKEGG\", organism=organism)#, OrgDb = \"org.Mm.eg.db\")\n",
    "    ht = max(7, (min(ceiling(sum(ck@compareClusterResult$Count > 0)/4), ceiling(categories*length(clusters)/4))))\n",
    "    wt = max(ceiling(max(nchar(ck@compareClusterResult$Description))/8+length(ids)/4), 7)\n",
    "    png(paste(\"enrichKegg_\", res, \".png\", sep=\"\"), height=ht, width=wt, units='in', res=300)\n",
    "    print(dotplot(ck, showCategory=categories))\n",
    "    dev.off()\n",
    "  })\n",
    "  try({\n",
    "    ck <- compareCluster(geneCluster = ids, fun = \"enrichGO\", OrgDb = orgdb)\n",
    "    ht = max(7, min(ceiling(sum(ck@compareClusterResult$Count > 0)/4), ceiling(categories*length(clusters)/4)))\n",
    "    wt = max(ceiling(max(nchar(ck@compareClusterResult$Description))/8), 7)\n",
    "    png(paste(\"enrichGO_\", res, \".png\", sep=\"\"), height=ht, width=wt, units='in', res=300)\n",
    "    print(dotplot(ck, showCategory=categories))\n",
    "    dev.off()\n",
    "  })\n",
    "  try({\n",
    "    ck <- compareCluster(geneCluster = ids, fun = \"groupGO\", ont=\"BP\", OrgDb = orgdb)\n",
    "    #ht = max(7, min(ceiling(sum(ck@compareClusterResult$Count > 0)/4), ceiling(categories*length(clusters)/4)))\n",
    "    wt = max(ceiling(max(nchar(as.character(ck@compareClusterResult$Description)))/8+length(ids)/4), 7)\n",
    "    png(paste(\"groupGO_\", res, \".png\", sep=\"\"), height=7, width=wt, units='in', res=300)\n",
    "    print(dotplot(ck, showCategory=categories))\n",
    "    dev.off()\n",
    "  })\n",
    "}"
   ]
  },
  {
   "cell_type": "code",
   "execution_count": 18,
   "id": "75e7eb3f-76d1-47f7-9651-be6f2805ecf1",
   "metadata": {},
   "outputs": [
    {
     "data": {
      "text/html": [
       "'libcurl'"
      ],
      "text/latex": [
       "'libcurl'"
      ],
      "text/markdown": [
       "'libcurl'"
      ],
      "text/plain": [
       "[1] \"libcurl\""
      ]
     },
     "metadata": {},
     "output_type": "display_data"
    }
   ],
   "source": [
    "getOption(\"clusterProfiler.download.method\")"
   ]
  },
  {
   "cell_type": "code",
   "execution_count": 17,
   "id": "b17eb636-dffa-42cf-9bcc-828fc703bdcb",
   "metadata": {},
   "outputs": [
    {
     "data": {
      "text/plain": [
       "R version 4.3.3 (2024-02-29)\n",
       "Platform: x86_64-pc-linux-gnu (64-bit)\n",
       "Running under: Ubuntu 22.04.4 LTS\n",
       "\n",
       "Matrix products: default\n",
       "BLAS:   /usr/lib/x86_64-linux-gnu/openblas-pthread/libblas.so.3 \n",
       "LAPACK: /usr/lib/x86_64-linux-gnu/openblas-pthread/libopenblasp-r0.3.20.so;  LAPACK version 3.10.0\n",
       "\n",
       "locale:\n",
       " [1] LC_CTYPE=en_US.UTF-8       LC_NUMERIC=C              \n",
       " [3] LC_TIME=en_US.UTF-8        LC_COLLATE=en_US.UTF-8    \n",
       " [5] LC_MONETARY=en_US.UTF-8    LC_MESSAGES=en_US.UTF-8   \n",
       " [7] LC_PAPER=en_US.UTF-8       LC_NAME=C                 \n",
       " [9] LC_ADDRESS=C               LC_TELEPHONE=C            \n",
       "[11] LC_MEASUREMENT=en_US.UTF-8 LC_IDENTIFICATION=C       \n",
       "\n",
       "time zone: Etc/UTC\n",
       "tzcode source: system (glibc)\n",
       "\n",
       "attached base packages:\n",
       "[1] stats4    stats     graphics  grDevices utils     datasets  methods  \n",
       "[8] base     \n",
       "\n",
       "other attached packages:\n",
       " [1] org.Hs.eg.db_3.18.0    AnnotationDbi_1.64.1   IRanges_2.34.1        \n",
       " [4] S4Vectors_0.38.2       Biobase_2.60.0         BiocGenerics_0.46.0   \n",
       " [7] dplyr_1.1.4            clusterProfiler_4.10.1 Seurat_5.0.1          \n",
       "[10] SeuratObject_5.0.2     sp_2.1-4              \n",
       "\n",
       "loaded via a namespace (and not attached):\n",
       "  [1] RcppAnnoy_0.0.22        splines_4.3.3           later_1.3.2            \n",
       "  [4] pbdZMQ_0.3-11           ggplotify_0.1.2         bitops_1.0-7           \n",
       "  [7] tibble_3.2.1            polyclip_1.10-6         fastDummies_1.7.3      \n",
       " [10] lifecycle_1.0.4         globals_0.16.3          lattice_0.22-6         \n",
       " [13] MASS_7.3-60.0.1         magrittr_2.0.3          plotly_4.10.4          \n",
       " [16] httpuv_1.6.15           sctransform_0.4.1       spam_2.10-0            \n",
       " [19] spatstat.sparse_3.0-3   reticulate_1.37.0       cowplot_1.1.3          \n",
       " [22] pbapply_1.7-2           DBI_1.2.3               RColorBrewer_1.1-3     \n",
       " [25] abind_1.4-5             zlibbioc_1.46.0         Rtsne_0.17             \n",
       " [28] purrr_1.0.2             ggraph_2.2.1            RCurl_1.98-1.14        \n",
       " [31] yulab.utils_0.1.4       tweenr_2.0.3            GenomeInfoDbData_1.2.11\n",
       " [34] enrichplot_1.22.0       ggrepel_0.9.5           irlba_2.3.5.1          \n",
       " [37] listenv_0.9.1           spatstat.utils_3.0-4    tidytree_0.4.6         \n",
       " [40] goftest_1.2-3           RSpectra_0.16-1         spatstat.random_3.2-3  \n",
       " [43] fitdistrplus_1.1-11     parallelly_1.37.1       leiden_0.4.3.1         \n",
       " [46] codetools_0.2-20        DOSE_3.28.2             ggforce_0.4.2          \n",
       " [49] tidyselect_1.2.1        aplot_0.2.2             farver_2.1.2           \n",
       " [52] viridis_0.6.5           matrixStats_1.3.0       base64enc_0.1-3        \n",
       " [55] spatstat.explore_3.2-7  jsonlite_1.8.8          tidygraph_1.3.1        \n",
       " [58] progressr_0.14.0        ggridges_0.5.6          survival_3.5-8         \n",
       " [61] tools_4.3.3             treeio_1.29.0           ica_1.0-3              \n",
       " [64] Rcpp_1.0.12             glue_1.7.0              gridExtra_2.3          \n",
       " [67] qvalue_2.34.0           GenomeInfoDb_1.36.4     IRdisplay_1.1          \n",
       " [70] withr_3.0.0             fastmap_1.1.1           fansi_1.0.6            \n",
       " [73] digest_0.6.35           gridGraphics_0.5-1      R6_2.5.1               \n",
       " [76] mime_0.12               colorspace_2.1-0        scattermore_1.2        \n",
       " [79] GO.db_3.17.0            tensor_1.5              spatstat.data_3.0-4    \n",
       " [82] RSQLite_2.3.7           utf8_1.2.4              tidyr_1.3.1            \n",
       " [85] generics_0.1.3          data.table_1.15.4       graphlayouts_1.1.1     \n",
       " [88] httr_1.4.7              htmlwidgets_1.6.4       scatterpie_0.2.3       \n",
       " [91] uwot_0.2.2              pkgconfig_2.0.3         gtable_0.3.5           \n",
       " [94] blob_1.2.4              lmtest_0.9-40           XVector_0.40.0         \n",
       " [97] shadowtext_0.1.3        htmltools_0.5.8.1       dotCall64_1.1-1        \n",
       "[100] fgsea_1.28.0            scales_1.3.0            png_0.1-8              \n",
       "[103] ggfun_0.1.5             reshape2_1.4.4          uuid_1.2-0             \n",
       "[106] nlme_3.1-164            repr_1.1.7              cachem_1.0.8           \n",
       "[109] zoo_1.8-12              stringr_1.5.1           KernSmooth_2.23-22     \n",
       "[112] parallel_4.3.3          miniUI_0.1.1.1          HDO.db_0.99.1          \n",
       "[115] pillar_1.9.0            grid_4.3.3              vctrs_0.6.5            \n",
       "[118] RANN_2.6.1              promises_1.3.0          xtable_1.8-4           \n",
       "[121] cluster_2.1.6           evaluate_0.23           cli_3.6.2              \n",
       "[124] compiler_4.3.3          rlang_1.1.3             crayon_1.5.2           \n",
       "[127] future.apply_1.11.2     labeling_0.4.3          plyr_1.8.9             \n",
       "[130] fs_1.6.3                stringi_1.8.3           viridisLite_0.4.2      \n",
       "[133] deldir_2.0-4            BiocParallel_1.34.2     munsell_0.5.1          \n",
       "[136] Biostrings_2.68.1       lazyeval_0.2.2          spatstat.geom_3.2-9    \n",
       "[139] GOSemSim_2.28.1         Matrix_1.6-5            IRkernel_1.1.1         \n",
       "[142] RcppHNSW_0.6.0          patchwork_1.2.0         bit64_4.0.5            \n",
       "[145] future_1.33.2           ggplot2_3.5.1           KEGGREST_1.40.1        \n",
       "[148] shiny_1.8.1.1           ROCR_1.0-11             igraph_2.0.3           \n",
       "[151] memoise_2.0.1           ggtree_3.10.1           fastmatch_1.1-4        \n",
       "[154] bit_4.0.5               gson_0.1.0              ape_5.8                "
      ]
     },
     "metadata": {},
     "output_type": "display_data"
    }
   ],
   "source": [
    "sessionInfo()"
   ]
  },
  {
   "cell_type": "code",
   "execution_count": null,
   "id": "28befb4c-e6a1-4f06-8a7a-425578daa5b1",
   "metadata": {},
   "outputs": [],
   "source": []
  }
 ],
 "metadata": {
  "kernelspec": {
   "display_name": "R",
   "language": "R",
   "name": "r"
  },
  "language_info": {
   "codemirror_mode": "r",
   "file_extension": ".r",
   "mimetype": "text/x-r-source",
   "name": "R",
   "pygments_lexer": "r",
   "version": "4.3.3"
  }
 },
 "nbformat": 4,
 "nbformat_minor": 5
}
